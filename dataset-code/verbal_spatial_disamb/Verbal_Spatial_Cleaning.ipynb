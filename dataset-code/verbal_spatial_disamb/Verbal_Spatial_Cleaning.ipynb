{
 "cells": [
  {
   "cell_type": "markdown",
   "metadata": {},
   "source": [
    "# Further Experimentation\n",
    "\n",
    "- Standardize answers\n",
    "- Cleaning points\n",
    "- Standard amount of information\n",
    "- Rearrange data"
   ]
  },
  {
   "cell_type": "markdown",
   "metadata": {},
   "source": [
    "## I. Load Data"
   ]
  },
  {
   "cell_type": "code",
   "execution_count": null,
   "metadata": {},
   "outputs": [],
   "source": [
    "import ujson"
   ]
  },
  {
   "cell_type": "code",
   "execution_count": null,
   "metadata": {},
   "outputs": [],
   "source": [
    "file = open('verbalNew.json')\n",
    "verbal = ujson.load(file)\n",
    "file.close()"
   ]
  },
  {
   "cell_type": "code",
   "execution_count": null,
   "metadata": {},
   "outputs": [],
   "source": [
    "verbal"
   ]
  },
  {
   "cell_type": "code",
   "execution_count": null,
   "metadata": {},
   "outputs": [],
   "source": [
    "file = open('spatialNew.json')\n",
    "spatial = ujson.load(file)\n",
    "file.close()"
   ]
  },
  {
   "cell_type": "code",
   "execution_count": null,
   "metadata": {},
   "outputs": [],
   "source": [
    "file = open(\"GQA/sceneGraphs/train_sceneGraphs.json\")\n",
    "trainImgs = ujson.load(file) # length: 74942\n",
    "file.close"
   ]
  },
  {
   "cell_type": "code",
   "execution_count": null,
   "metadata": {},
   "outputs": [],
   "source": [
    "file = open(\"GQA/sceneGraphs/val_sceneGraphs.json\")\n",
    "trainImgs.update(ujson.load(file)) # length: 74942\n",
    "file.close()"
   ]
  },
  {
   "cell_type": "markdown",
   "metadata": {},
   "source": [
    "## Standardize Answers"
   ]
  },
  {
   "cell_type": "code",
   "execution_count": null,
   "metadata": {},
   "outputs": [],
   "source": [
    "# standardize answers\n",
    "import re\n",
    "\n",
    "for i in verbal:\n",
    "    vKey = verbal[i]\n",
    "    sKey = spatial[i]\n",
    "    \n",
    "    # https://www.geeksforgeeks.org/python-remove-punctuation-from-string/\n",
    "    vKey['answer'] = re.sub(r'[^\\w\\s]', '', vKey['answer'].lower())\n",
    "    sKey['answer'] = re.sub(r'[^\\w\\s]', '', sKey['answer'].lower())"
   ]
  },
  {
   "cell_type": "code",
   "execution_count": null,
   "metadata": {},
   "outputs": [],
   "source": [
    "verbal"
   ]
  },
  {
   "cell_type": "code",
   "execution_count": null,
   "metadata": {},
   "outputs": [],
   "source": [
    "len(verbal)"
   ]
  },
  {
   "cell_type": "markdown",
   "metadata": {},
   "source": [
    "## Clean Points"
   ]
  },
  {
   "cell_type": "code",
   "execution_count": null,
   "metadata": {},
   "outputs": [],
   "source": [
    "import matplotlib.pyplot as plt\n",
    "from visual_genome import api as vg\n",
    "from PIL import Image as PIL_Image\n",
    "import requests\n",
    "from io import BytesIO"
   ]
  },
  {
   "cell_type": "code",
   "execution_count": null,
   "metadata": {},
   "outputs": [],
   "source": [
    "def visualize_points(imgID, points):\n",
    "    image = vg.get_image_data(id=imgID)\n",
    "    response = requests.get(image.url)\n",
    "    img = PIL_Image.open(BytesIO(response.content))\n",
    "    plt.imshow(img)\n",
    "    fig = plt.gcf()\n",
    "    fig.set_size_inches(18.5, 10.5)\n",
    "    ax = plt.gca()\n",
    "    for o in range(len(points)):\n",
    "        ax.plot(points[o]['x'],points[o]['y'], 'ro') \n",
    "        ax.text(points[o]['x'], points[o]['y'], str(o), style='italic', bbox={'facecolor':'white', 'alpha':0.7, 'pad':10})\n",
    "    plt.tick_params(labelbottom='off', labelleft='off')\n",
    "    plt.show()"
   ]
  },
  {
   "cell_type": "code",
   "execution_count": null,
   "metadata": {
    "slideshow": {
     "slide_type": "-"
    }
   },
   "outputs": [],
   "source": [
    "# count = 0\n",
    "for i in spatial:\n",
    "    qKey = spatial[i]\n",
    "    imageID = qKey['imageId']\n",
    "    ans = qKey['answer']\n",
    "    if 'V' not in i: # GQA question\n",
    "        obj = trainImgs[imageID]['objects'][qKey['objectID']]\n",
    "        qKey['pt'] = {'x': int(obj['x'] + obj['w'] / 2), 'y': int(obj['y'] + obj['h'] / 2), 'answer': ans}\n",
    "    else:  # visual genome question\n",
    "        qKey['pt'] = qKey['points'][0] # TO DO: rename 'ans' to 'answer'"
   ]
  },
  {
   "cell_type": "markdown",
   "metadata": {},
   "source": [
    "## Standardize Amount of Info and Rearrange (for Verbal, Spatial)"
   ]
  },
  {
   "cell_type": "code",
   "execution_count": null,
   "metadata": {},
   "outputs": [],
   "source": [
    "verbalN = {}\n",
    "spatialN = {}"
   ]
  },
  {
   "cell_type": "code",
   "execution_count": null,
   "metadata": {},
   "outputs": [],
   "source": [
    "file = open('VisualGenomeSpatial.json')\n",
    "vgSpatial = ujson.load(file)\n",
    "file.close()"
   ]
  },
  {
   "cell_type": "code",
   "execution_count": null,
   "metadata": {},
   "outputs": [],
   "source": [
    "for i in spatial:\n",
    "    sKey = spatial[i]\n",
    "    qID = i\n",
    "    qFound = False\n",
    "    for j in vgSpatial:\n",
    "        for k in j['qas']:\n",
    "            \n",
    "            if \"V\" + str(k['qa_id']) == qID:\n",
    "                sKey['question'] = k['question']\n",
    "                qFound = True\n",
    "                break\n",
    "        if qFound:\n",
    "            break"
   ]
  },
  {
   "cell_type": "code",
   "execution_count": null,
   "metadata": {},
   "outputs": [],
   "source": [
    "# standardize amount of information\n",
    "for i in verbal:\n",
    "    vKey = verbal[i]\n",
    "    sKey = spatial[i]\n",
    "    qID = i\n",
    "    imageId = int(vKey['imageId'])\n",
    "    vQuest = vKey['question']\n",
    "    sQuest = sKey['question']\n",
    "    ans = vKey['answer']\n",
    "    pt = sKey['pt']\n",
    "    if imageId not in verbalN:\n",
    "        verbalN[imageId] = [{'qa_id': qID, 'question': vQuest, 'answer': ans}]\n",
    "        spatialN[imageId] = [{'qa_id': qID, 'question': sQuest, 'answer': ans, 'point': pt}]\n",
    "    else:\n",
    "        verbalN[imageId].append({'qa_id': qID, 'question': vQuest, 'answer': ans})\n",
    "        spatialN[imageId].append({'qa_id': qID, 'question': sQuest, 'answer': ans, 'point': pt})"
   ]
  },
  {
   "cell_type": "code",
   "execution_count": null,
   "metadata": {},
   "outputs": [],
   "source": [
    "count = 0\n",
    "for i in spatialN:\n",
    "    for k in spatialN[i]:\n",
    "        count += 1\n",
    "print(count)"
   ]
  },
  {
   "cell_type": "code",
   "execution_count": null,
   "metadata": {},
   "outputs": [],
   "source": [
    "# write to new json file\n",
    "with open(\"verbal.json\", \"w\") as outfile: \n",
    "    ujson.dump(verbalN, outfile)\n",
    "\n",
    "# write to new json file\n",
    "with open(\"spatial.json\", \"w\") as outfile: \n",
    "    ujson.dump(spatialN, outfile)"
   ]
  },
  {
   "cell_type": "code",
   "execution_count": null,
   "metadata": {},
   "outputs": [],
   "source": [
    "def showImgPoints(imgID, o):\n",
    "    img = PIL_Image.open(\"GQA/images/\" + str(imgID) + \".jpg\")\n",
    "    plt.imshow(img)\n",
    "    ax = plt.gca()\n",
    "    ax.plot(o['x'],o['y'], 'ro') \n",
    "    ax.text(o['x'],o['y'], o['answer'], style='italic', color='red')\n",
    "    plt.tick_params(labelbottom='off', labelleft='off')\n",
    "    plt.show()"
   ]
  },
  {
   "cell_type": "code",
   "execution_count": null,
   "metadata": {},
   "outputs": [],
   "source": [
    "for i in spatialN:\n",
    "    for j in spatialN[i]:\n",
    "        showImgPoints(i, j['point'])\n",
    "        print(j['question'])\n",
    "        print(j['answer'])"
   ]
  }
 ],
 "metadata": {
  "kernelspec": {
   "display_name": "Python 3",
   "language": "python",
   "name": "python3"
  },
  "language_info": {
   "codemirror_mode": {
    "name": "ipython",
    "version": 3
   },
   "file_extension": ".py",
   "mimetype": "text/x-python",
   "name": "python",
   "nbconvert_exporter": "python",
   "pygments_lexer": "ipython3",
   "version": "3.7.6"
  }
 },
 "nbformat": 4,
 "nbformat_minor": 4
}
