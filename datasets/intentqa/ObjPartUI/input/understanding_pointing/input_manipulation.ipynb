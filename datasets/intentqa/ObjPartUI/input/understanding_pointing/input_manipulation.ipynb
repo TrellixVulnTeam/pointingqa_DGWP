{
 "cells": [
  {
   "cell_type": "code",
   "execution_count": 3,
   "metadata": {
    "collapsed": true
   },
   "outputs": [],
   "source": [
    "%matplotlib inline\n",
    "import sys\n",
    "import json\n",
    "import os\n",
    "import collections\n",
    "import matplotlib.pyplot as plt\n",
    "from tqdm import tqdm\n",
    "import importlib\n",
    "from tqdm import tqdm, tqdm_notebook\n",
    "sys.path.append('../../examples/weak/notebooks/point_analytics/')\n",
    "sys.path.append('../../examples/weak/notebooks/')\n",
    "import point_analytics\n",
    "import point_analytics.htmldump\n",
    "import point_analytics.histograms\n",
    "import point_analytics.response_cleaning\n",
    "import point_analytics.utils"
   ]
  },
  {
   "cell_type": "code",
   "execution_count": 58,
   "metadata": {
    "collapsed": true
   },
   "outputs": [],
   "source": [
    "#Get dictionary for class analysis\n",
    "with open('id_reference.json', 'r') as f:\n",
    "    reference = json.load(f)"
   ]
  },
  {
   "cell_type": "code",
   "execution_count": 143,
   "metadata": {
    "collapsed": true
   },
   "outputs": [],
   "source": [
    "# Reservoir select from other values\n",
    "# Used to pad nonuniform-sized batches\n",
    "import random\n",
    "def R(it, k):\n",
    "    '''https://en.wikipedia.org/wiki/Reservoir_sampling#Algorithm_R'''\n",
    "    it = iter(it)\n",
    "    result = []\n",
    "    for i, datum in enumerate(it):\n",
    "        if i < k:\n",
    "            result.append(datum)\n",
    "        else:\n",
    "            j = random.randint(0, i-1)\n",
    "            if j < k:\n",
    "                result[j] = datum\n",
    "    return result"
   ]
  },
  {
   "cell_type": "markdown",
   "metadata": {},
   "source": [
    "## 1: Separate into Chunks (discontinued for Part 2)"
   ]
  },
  {
   "cell_type": "raw",
   "metadata": {
    "collapsed": true
   },
   "source": [
    "full_names = 'im_names.json'\n",
    "full_data = 'understanding_pointing_input.json'"
   ]
  },
  {
   "cell_type": "raw",
   "metadata": {
    "collapsed": true
   },
   "source": [
    "with open(full_names, 'r') as f:\n",
    "    names = json.load(f)\n",
    "with open(full_data, 'r') as f:\n",
    "    data = json.load(f)"
   ]
  },
  {
   "cell_type": "raw",
   "metadata": {
    "collapsed": true
   },
   "source": [
    "batch_size = 10\n",
    "N = len(names)\n",
    "sn = []\n",
    "sd = []\n",
    "for i in range(0,N,batch_size):\n",
    "    short_names = names[i:min(i+batch_size, N)]\n",
    "    short_data = {k:data[k] for k in short_names}\n",
    "    sn.append(short_names)\n",
    "    sd.append(short_data)"
   ]
  },
  {
   "cell_type": "raw",
   "metadata": {
    "collapsed": true
   },
   "source": [
    "with open('understanding_pointing_input_batched.json', 'w+') as f:\n",
    "    for line in sd:\n",
    "        f.write('{}\\n'.format(json.dumps(line)))\n",
    "with open('im_names_batched.json', 'w+') as f:\n",
    "    for line in sn:\n",
    "        f.write('{}\\n'.format(json.dumps(line)))"
   ]
  },
  {
   "cell_type": "raw",
   "metadata": {
    "collapsed": true
   },
   "source": [
    "# Find all images without a silhouette\n",
    "# Note: Decided to hack around this by instead selecting the first appearing part as the \"silhouette\" option\n",
    "# This decision encoded in all_actions.html\n",
    "errors = collections.defaultdict(list)\n",
    "mistakes = collections.defaultdict(int)\n",
    "for name in names:\n",
    "    types = data[name]['points']['data'].keys()\n",
    "    components = collections.defaultdict(list)\n",
    "    for t in types:\n",
    "        obj = t.split('_')[0]\n",
    "        components[obj].append(t)\n",
    "    for obj, parts in components.items():\n",
    "        silhfound = False\n",
    "        for part in parts:\n",
    "            pid = part.split('_')[-1]\n",
    "            if pid == '100':\n",
    "                silhfound = True\n",
    "                break\n",
    "        if not silhfound:\n",
    "            errors[name].append(obj)\n",
    "            mistakes[obj]+=1"
   ]
  },
  {
   "cell_type": "raw",
   "metadata": {},
   "source": [
    "#Assign a list of image names to each object type\n",
    "obj2images = collections.defaultdict(list)\n",
    "for name in names:\n",
    "    types = data[name]['points']['data'].keys()\n",
    "    containedObjects = set()\n",
    "    components = collections.defaultdict(list)\n",
    "    for t in types:\n",
    "        obj = t.split('_')[0]\n",
    "        components[obj].append(t)\n",
    "        containedObjects.add(obj)\n",
    "    for obj in containedObjects:\n",
    "        obj2images[obj].append(name)    "
   ]
  },
  {
   "cell_type": "raw",
   "metadata": {},
   "source": [
    "#Given a batch_size, arrange into HITs\n",
    "batch_size=50\n",
    "batched_names = []\n",
    "batched_data = []\n",
    "for obj,obj_names in obj2images.items():\n",
    "    N = len(obj_names)\n",
    "    chunked = [obj_names[i:min(i+batch_size,N)] for i in range(0,N,batch_size)]\n",
    "    batched_names.extend(chunked)\n",
    "    M = len(chunked)\n",
    "    for chunk in chunked:\n",
    "        if len(chunk) != batch_size: # randomly add elements from another chunk to pad to full size\n",
    "            toadd = batch_size - len(chunk)\n",
    "            toappend = R(obj_names, toadd)\n",
    "            chunk.extend(toappend)\n",
    "        if len(chunk) != batch_size:\n",
    "            raise RuntimeError(\"{} not correct size.\".format(len(chunk)))\n",
    "        data_mb = {}\n",
    "        for name in chunk:\n",
    "            im_data = data[name]\n",
    "            classwise_data = {}\n",
    "            for pid, point_data in im_data['points']['data'].items():\n",
    "                point_obj = pid.split('_')[0]\n",
    "                if point_obj == obj:\n",
    "                    classwise_data[pid] = point_data\n",
    "            data_mb[name] = { u'points': {u'data': classwise_data, \n",
    "                               u'size': im_data['points']['size']},\n",
    "                              u'im': im_data['im']\n",
    "                            }\n",
    "        batched_data.append(data_mb)\n",
    "     "
   ]
  },
  {
   "cell_type": "raw",
   "metadata": {},
   "source": [
    "with open('clswise_data_batched.json', 'w+') as f:\n",
    "    for line in batched_data:\n",
    "        f.write('{}\\n'.format(json.dumps(line)))\n",
    "with open('clswise_im_names_batched.json', 'w+') as f:\n",
    "    for line in batched_names:\n",
    "        f.write('{}\\n'.format(json.dumps(line)))"
   ]
  },
  {
   "cell_type": "raw",
   "metadata": {},
   "source": [
    "print obj2images.keys()\n",
    "pascal_names = [v['name'] for v in reference.values()]\n",
    "not_included = set(pascal_names)-set([reference[k]['name'] for k in obj2images.keys()])\n",
    "print(not_included)"
   ]
  },
  {
   "cell_type": "markdown",
   "metadata": {},
   "source": [
    "## Same as Part 1 but separates out s.t. each point is guaranteed to show once"
   ]
  },
  {
   "cell_type": "code",
   "execution_count": 83,
   "metadata": {
    "collapsed": true
   },
   "outputs": [],
   "source": [
    "sys.path.append('../../examples/weak/notebooks/')\n",
    "# import analytics.utils"
   ]
  },
  {
   "cell_type": "code",
   "execution_count": 84,
   "metadata": {
    "collapsed": true
   },
   "outputs": [],
   "source": [
    "dirname = '../../examples/weak/notebooks/gt_points/'\n",
    "name2id = {v['name']: k for k, v in reference.items()}\n",
    "\n",
    "\n",
    "def copy_over_ground_truth(dirname):\n",
    "    import shutil\n",
    "    for fname in os.listdir(dirname):\n",
    "        if 'formatted' not in fname:\n",
    "            continue\n",
    "        shutil.copyfile(os.path.join(dirname, fname),\n",
    "                        os.path.join('./gt_points/', fname))\n",
    "\n",
    "\n",
    "def build_gt_dict(dirname):\n",
    "    D = {}\n",
    "    for fname in os.listdir(dirname):\n",
    "        if 'formatted' not in fname:\n",
    "            continue\n",
    "        with open(os.path.join('./gt_points', fname), 'r') as f:\n",
    "            gt_data = json.load(f)\n",
    "        cls = fname.split('_')[-1].split('.')[0]\n",
    "        D[cls] = gt_data\n",
    "    return D\n",
    "\n",
    "\n",
    "def switch_xy(gt_data):\n",
    "    for obj_class, data in gt_data.items():\n",
    "        for p_data in data:\n",
    "            for imid, imid_data in p_data.items():\n",
    "                for key, payload in imid_data['points']['data'].items():\n",
    "                    points = payload['points'][0]\n",
    "                    payload['points'] = [[points[1], points[0]]]\n",
    "\n",
    "def pop_out_examples(gt_data):\n",
    "    examples = {}\n",
    "    bla = {}\n",
    "    for obj_class, data in gt_data.items():\n",
    "        need_whole_example = True\n",
    "        need_part_example = True\n",
    "        examples[obj_class] = {}\n",
    "        real_data = []\n",
    "        for i, p_data in enumerate(data):\n",
    "            ID = p_data.values()[0]['gt']\n",
    "            if(need_whole_example and ID == '100'):\n",
    "                examples[obj_class]['obj'] = p_data\n",
    "                need_whole_example = False\n",
    "            elif (need_part_example and ID != '100'):\n",
    "                examples[obj_class]['part'] = p_data\n",
    "                need_part_example = False\n",
    "            else:\n",
    "                real_data.append(p_data)\n",
    "        bla[obj_class] = real_data\n",
    "    return examples, bla\n",
    "def segment_by_obj_part(gt_data):\n",
    "    copied = {}\n",
    "    for obj_class, data in gt_data.items():\n",
    "        segmented = {'obj': [], 'part': []}\n",
    "        for i, p_data in enumerate(data):\n",
    "            ID = p_data.values()[0]['gt']\n",
    "            if(ID == '100'):\n",
    "                segmented['obj'].append(p_data)\n",
    "            else:\n",
    "                segmented['part'].append(p_data)\n",
    "        copied[obj_class] = segmented\n",
    "    return copied"
   ]
  },
  {
   "cell_type": "markdown",
   "metadata": {},
   "source": [
    "### Load gold standards"
   ]
  },
  {
   "cell_type": "code",
   "execution_count": 6,
   "metadata": {
    "collapsed": true
   },
   "outputs": [],
   "source": [
    "# copy_over_ground_truth(dirname)"
   ]
  },
  {
   "cell_type": "code",
   "execution_count": 141,
   "metadata": {
    "collapsed": true
   },
   "outputs": [],
   "source": [
    "gt_data = build_gt_dict(dirname)\n",
    "switch_xy(gt_data)\n",
    "gt_data = {name2id[k] : v for k, v in gt_data.items()}\n",
    "examples, gt_data = pop_out_examples(gt_data)\n",
    "gt_data = segment_by_obj_part(gt_data)"
   ]
  },
  {
   "cell_type": "code",
   "execution_count": 8,
   "metadata": {
    "collapsed": true
   },
   "outputs": [],
   "source": [
    "# with open('clswise_examples.json', 'w+') as f:\n",
    "#     json.dump(examples, f)\n",
    "#!mv clswise_examples.json ../../examples/weak/notebooks/gt_points/"
   ]
  },
  {
   "cell_type": "markdown",
   "metadata": {},
   "source": [
    "### Below, do the actual manipulations. Skip to section 3 if you wish to simply update existing data."
   ]
  },
  {
   "cell_type": "code",
   "execution_count": 10,
   "metadata": {
    "collapsed": true
   },
   "outputs": [],
   "source": [
    "# full_names = 'points/valid_ims_double.json' #Before using medial axis skeletons for the silhouette class\n",
    "# full_data = 'points/valid_points_double.json'\n",
    "# full_names = 'points/valid_ims_medial.json'\n",
    "# full_data = 'points/valid_points_meds.json'\n",
    "# full_names = 'points/valid_ims_medial_centered.json'\n",
    "# full_data = 'points/valid_points_meds_centered.json'\n",
    "# full_names = 'points/valid_ims_medial_centered_all.json'\n",
    "# full_data = 'points/valid_points_meds_centered_all.json'\n",
    "full_names = 'points/keys_2018_02_11_all_points_full_silhouettes.json'\n",
    "full_data = 'points/data_2018_02_11_all_points_full_silhouettes.json'"
   ]
  },
  {
   "cell_type": "code",
   "execution_count": 54,
   "metadata": {
    "collapsed": true
   },
   "outputs": [],
   "source": [
    "with open(full_names, 'r') as f:\n",
    "     names = json.load(f)\n",
    "with open(full_data, 'r') as f:\n",
    "     data = json.load(f)"
   ]
  },
  {
   "cell_type": "markdown",
   "metadata": {},
   "source": [
    "* Convert data to list of [{imid: singular_datum}, ...] format\n",
    "* Segment list by object type\n",
    "* Shuffle to reduce likelihood of getting repeat images"
   ]
  },
  {
   "cell_type": "code",
   "execution_count": 59,
   "metadata": {
    "collapsed": true
   },
   "outputs": [],
   "source": [
    "#Assign a list of image names to each object type\n",
    "obj2images = collections.defaultdict(list)\n",
    "for name in names:\n",
    "    types = data[name]['points']['data'].keys()\n",
    "    containedObjects = set()\n",
    "    components = collections.defaultdict(list)\n",
    "    for t in types:\n",
    "        obj = t.split('_')[0]\n",
    "        components[obj].append(t)\n",
    "        containedObjects.add(obj)\n",
    "    for obj in containedObjects:\n",
    "        obj2images[obj].append(name)    "
   ]
  },
  {
   "cell_type": "code",
   "execution_count": 61,
   "metadata": {
    "collapsed": true
   },
   "outputs": [],
   "source": [
    "image2obj = collections.defaultdict(list)\n",
    "for k, l in obj2images.items():\n",
    "    for v in l:\n",
    "        image2obj[v].append(k)"
   ]
  },
  {
   "cell_type": "markdown",
   "metadata": {},
   "source": [
    "### Flatten the points into a {cls: [question , ...]} dict"
   ]
  },
  {
   "cell_type": "code",
   "execution_count": 60,
   "metadata": {
    "collapsed": true
   },
   "outputs": [],
   "source": [
    "# Convert the data dictionary (specified) to\n",
    "def legally_flatten_data(data, num_classes=15):\n",
    "    seen = {}\n",
    "    i = 0\n",
    "    flattened = []\n",
    "    errors = []\n",
    "    for im_name, pd in data.items():\n",
    "        im_addr = pd['im']\n",
    "        size = pd['points']['size']\n",
    "        if isinstance(pd['points']['data'], type(None)):\n",
    "            errors.append(im_name)\n",
    "            continue\n",
    "        for point_id, point_data in pd['points']['data'].items():\n",
    "            #             print point_id, point_data\n",
    "            area = point_data['area']\n",
    "            points = point_data['points']\n",
    "            cls = point_id.split('_')[0]\n",
    "            for point in points:\n",
    "                payload = {im_name: {'im': im_addr,\n",
    "                                     'points': {\n",
    "                                         'data': {point_id: {\n",
    "                                             'area': area,\n",
    "                                             'points': [point]\n",
    "                                         }},\n",
    "                                         'size': size\n",
    "                                     }\n",
    "                                     }\n",
    "                           }\n",
    "                if cls not in seen:\n",
    "                    flattened.append([payload])\n",
    "                    seen[cls] = i\n",
    "                    i += 1\n",
    "                else:\n",
    "                    flattened[seen[cls]].append(payload)\n",
    "    return flattened, errors"
   ]
  },
  {
   "cell_type": "code",
   "execution_count": 62,
   "metadata": {
    "collapsed": true
   },
   "outputs": [],
   "source": [
    "flt_seg_data, errors = legally_flatten_data(data)"
   ]
  },
  {
   "cell_type": "code",
   "execution_count": null,
   "metadata": {
    "collapsed": true
   },
   "outputs": [],
   "source": [
    "it = 0\n",
    "for cls_data in flt_seg_data:\n",
    "    for HIT in cls_data:\n",
    "        it+=1\n",
    "print(it)"
   ]
  },
  {
   "cell_type": "markdown",
   "metadata": {},
   "source": [
    "### Make the batches"
   ]
  },
  {
   "cell_type": "code",
   "execution_count": null,
   "metadata": {
    "collapsed": true
   },
   "outputs": [],
   "source": [
    "# Given a batch_size, arrange into HITs\n",
    "from random import shuffle\n",
    "batch_size = 50  # Size of each HIT\n",
    "num_gt = 6\n",
    "max_chunks = np.infty\n",
    "# Ensure that we have exactly num_gt number of golden standards\n",
    "batch_size = batch_size-num_gt\n",
    "batched_data = []\n",
    "gt_data_index = {}\n",
    "\n",
    "for cls, points in gt_data.items():\n",
    "    gt_data_index[cls] = {}\n",
    "    gt_data_index[cls]['obj'] = 0\n",
    "    gt_data_index[cls]['part'] = 0\n",
    "\n",
    "for obj_list in flt_seg_data:\n",
    "    obj_class = list(list(obj_list[0].values())[\n",
    "                     0]['points']['data'])[0].split('_')[0]\n",
    "    rand_list = obj_list\n",
    "    shuffle(rand_list)\n",
    "    N = len(rand_list)\n",
    "    chunked = [rand_list[i:min(i+batch_size, N)]\n",
    "               for i in range(0, N, batch_size)]\n",
    "    M = len(chunked)\n",
    "    for i, chunk in enumerate(chunked):\n",
    "        if len(chunk) != batch_size:  # randomly add elements from another chunk to pad to full size\n",
    "            toadd = batch_size - len(chunk)\n",
    "            toappend = R(rand_list, toadd)\n",
    "            chunk.extend(toappend)\n",
    "        if len(chunk) != batch_size:  # Error padding\n",
    "            raise RuntimeError(\"{} not correct size.\".format(len(chunk)))\n",
    "\n",
    "        # Add gold standards from object class\n",
    "        index = gt_data_index[obj_class]['obj']\n",
    "        gold_standards = gt_data[obj_class]['obj']\n",
    "        next_ind = (index+num_gt//2) % len(gold_standards)\n",
    "        gt_data_index[obj_class]['obj'] = next_ind\n",
    "        if next_ind < index:\n",
    "            gold_to_append = gold_standards[index:len(gold_standards)]\n",
    "            gold_to_append.extend(gold_standards[0:next_ind])\n",
    "        else:\n",
    "            gold_to_append = gold_standards[index:next_ind]\n",
    "        chunk.extend(gold_to_append)\n",
    "#         batched_data.append(chunk)\n",
    "\n",
    "        # Add gold standards from part class\n",
    "        index = gt_data_index[obj_class]['part']\n",
    "        gold_standards = gt_data[obj_class]['part']\n",
    "        next_ind = (index+num_gt//2) % len(gold_standards)\n",
    "        gt_data_index[obj_class]['part'] = next_ind\n",
    "        if next_ind < index:\n",
    "            gold_to_append = gold_standards[index:len(gold_standards)]\n",
    "            gold_to_append.extend(gold_standards[0:next_ind])\n",
    "        else:\n",
    "            gold_to_append = gold_standards[index:next_ind]\n",
    "        chunk.extend(gold_to_append)\n",
    "        batched_data.append(chunk)\n",
    "        if i > max_chunks:\n",
    "            break"
   ]
  },
  {
   "cell_type": "markdown",
   "metadata": {},
   "source": [
    "#### Write to file"
   ]
  },
  {
   "cell_type": "code",
   "execution_count": null,
   "metadata": {
    "collapsed": true
   },
   "outputs": [],
   "source": [
    "with open('clswise_with_gt.json', 'w+') as f:\n",
    "    for line in batched_data:\n",
    "        f.write('{}\\n'.format(json.dumps(line)))"
   ]
  },
  {
   "cell_type": "code",
   "execution_count": null,
   "metadata": {
    "collapsed": true
   },
   "outputs": [],
   "source": [
    "# Separate into files by class"
   ]
  },
  {
   "cell_type": "markdown",
   "metadata": {},
   "source": [
    "### Get classwise Chunks"
   ]
  },
  {
   "cell_type": "code",
   "execution_count": null,
   "metadata": {
    "collapsed": true
   },
   "outputs": [],
   "source": [
    "bycls = collections.defaultdict(list)\n",
    "for i, l in enumerate(batched_data):\n",
    "    cls=l[0].values()[0]['points']['data'].keys()[0].split('_')[0]\n",
    "    bycls[cls].append(l)"
   ]
  },
  {
   "cell_type": "markdown",
   "metadata": {},
   "source": [
    "#### Write to file"
   ]
  },
  {
   "cell_type": "code",
   "execution_count": null,
   "metadata": {
    "collapsed": true
   },
   "outputs": [],
   "source": [
    "for k, v in bycls.items():\n",
    "    name = reference[k]['name']\n",
    "    with open('BYCLASS/gt_BYNAME_'+name+'_centered.json', 'w+') as f:\n",
    "        for line in v:\n",
    "            f.write('{}\\n'.format(json.dumps(line)))"
   ]
  },
  {
   "cell_type": "markdown",
   "metadata": {},
   "source": [
    "# Modifying existing Data\n",
    "## Part 1: Updating info for occluded points."
   ]
  },
  {
   "cell_type": "code",
   "execution_count": 87,
   "metadata": {},
   "outputs": [
    {
     "name": "stdout",
     "output_type": "stream",
     "text": [
      "loading annotations into memory...\n",
      "Done (t=2.78s)\n",
      "creating index...\n",
      "index created!\n"
     ]
    }
   ],
   "source": [
    "# Get masks\n",
    "import sys\n",
    "sys.path.append('../../../../detail-api-3.0.0/PythonAPI/')\n",
    "from detail import Detail\n",
    "annFile = '../../../../JSON/trainval_parts.json'  # annotations\n",
    "details = Detail(annFile)"
   ]
  },
  {
   "cell_type": "code",
   "execution_count": 86,
   "metadata": {
    "collapsed": true
   },
   "outputs": [],
   "source": [
    "def drawPoint(im, y, x):\n",
    "    from PIL import Image, ImageDraw\n",
    "    if not isinstance(im, Image.Image):\n",
    "        im = Image.fromarray(im.astype(np.uint8))\n",
    "    cp = im.copy()\n",
    "    draw = ImageDraw.Draw(cp)\n",
    "    draw.ellipse((x - 8, y - 8, x + 8, y + 8), fill='red', outline='blue')\n",
    "    draw.ellipse((x - 3, y - 3, x + 3, y + 3), fill='green', outline='blue')\n",
    "    # draw.point((x, y), 'red')\n",
    "    return cp\n",
    "\n",
    "\n",
    "def check_occluded(imid, point, cls, inst=None, details=None):\n",
    "    ''' Check whether a point (x,y) of class \"cls\" and instance id \"inst\" is in the background\n",
    "        (e.g. if another Pascal object supersedes that region).\n",
    "        The (hacky) logic relies on the accuracy of the semantic segmenation (which performs \n",
    "        layering of overlapping instances). If the point is labelled as the class \"cls\" in the\n",
    "        semantic image segmentation, we accept the object as being not occluded by another\n",
    "        Pascal object.\n",
    "        \"details\" is a Details object.\n",
    "    '''\n",
    "    if isinstance(imid, str) or isinstance(imid, basestring):\n",
    "        imid = int(imid[:4]+imid[5:])\n",
    "#     ann = details.getAnns(imgs=imid)\n",
    "    # Check whether point is occluded by a different class\n",
    "    semantic_mask = details.getMask(img=imid)  # Get semantic segmentation mask\n",
    "    x, y = int(point[1]), int(point[0])\n",
    "    gt_class = int(semantic_mask[y, x])\n",
    "    if gt_class != int(cls):\n",
    "        #         print(int(semantic_mask[y,x]), int(cls))\n",
    "        if gt_class == 0:\n",
    "#             print(\"ERROR\")\n",
    "#             print(imid)\n",
    "#             mask = (semantic_mask == int(cls)).astype(np.uint8) * 255\n",
    "#             mask = drawPoint(mask, y, x)\n",
    "#             plt.imshow(mask)\n",
    "#             plt.show()\n",
    "            return False, (imid, point, cls)\n",
    "        return True, gt_class  # Is occluded\n",
    "\n",
    "    # TODO\n",
    "    # Check whether point is occluded by a different instance\n",
    "    # TODO\n",
    "    # Check whether poin tis occluded by a different PART\n",
    "    return False, 0\n",
    "\n",
    "\n",
    "def update_occluded(question, details, new_cls=None):\n",
    "    '''Update a point which has previously been found to be occluded.\n",
    "       Question (an entry for a HIT) will be updated by reference, \n",
    "       selecting the correct instance and part on which the point lands.\n",
    "       updated question will then have the object class \"cls\".\n",
    "       cls is used\n",
    "    '''\n",
    "    import copy\n",
    "    imid_ = question.keys()[0]  # numeric version used for details api\n",
    "    imid = imid_\n",
    "    if isinstance(imid_, str) or isinstance(imid_, basestring):\n",
    "        imid_ = int(imid_[:4]+imid_[5:])\n",
    "    # Make useable\n",
    "    cls_inst_part = list(question[imid]['points']['data'].keys())[0]\n",
    "    point = question[imid]['points']['data'][cls_inst_part]['points'][0]\n",
    "\n",
    "    if isinstance(new_cls, type(None)):\n",
    "        cls = cls_inst_part.split(\"_\")[0]\n",
    "        is_occluded, new_cls = check_occluded(imid_, point, cls, None, details)\n",
    "        if not is_occluded:\n",
    "            return False, new_cls\n",
    "\n",
    "    # Get new instance\n",
    "    # Get instance segmentation mask\n",
    "    instance_mask = details.getMask(img=imid_, cat=new_cls)\n",
    "    x, y = int(point[1]), int(point[0])\n",
    "    new_inst = int(instance_mask[y, x])\n",
    "    # Get new part\n",
    "    part_mask = details.getMask(\n",
    "        img=imid_, cat=new_cls, instance=new_inst)  # Get part mask\n",
    "    new_part = int(part_mask[y, x])\n",
    "    part_area = (part_mask == new_part).sum()\n",
    "\n",
    "#     print(new_cls, new_inst, new_part)\n",
    "    q_up = copy.deepcopy(question)\n",
    "    dat = q_up.values()[0]['points']['data']\n",
    "    q_up.values()[0]['points']['data'] = {str(new_cls) + \"_\" + str(new_inst) + \"_\" + str(new_part):\n",
    "                                {'area': part_area,\n",
    "                                 'points': dat.values()[0]['points']}\n",
    "                                }\n",
    "    return True, q_up\n",
    "\n",
    "\n",
    "def question2key(question):\n",
    "    imid = list(question.keys())[0].strip()\n",
    "    cls_inst_part = list(question[imid]['points']['data'].keys())[0]\n",
    "    points = question[imid]['points']['data'][cls_inst_part]['points']\n",
    "    x, y = str(points[0][0]), str(points[0][1])\n",
    "    return imid + \"_\" + cls_inst_part + \"_\" + x + \"_\" + y"
   ]
  },
  {
   "cell_type": "code",
   "execution_count": 102,
   "metadata": {
    "collapsed": true
   },
   "outputs": [],
   "source": [
    "clswise_with_gt = []\n",
    "# fname = 'clswise_with_gt.json'\n",
    "fname = 'thresholded_clswise_with_gt.json'\n",
    "with open(fname, 'r') as f:\n",
    "    for line in f.readlines():\n",
    "        clswise_with_gt.append(json.loads(line.strip()))"
   ]
  },
  {
   "cell_type": "code",
   "execution_count": 89,
   "metadata": {
    "collapsed": true
   },
   "outputs": [],
   "source": [
    "from tqdm import tqdm_notebook, tnrange"
   ]
  },
  {
   "cell_type": "code",
   "execution_count": 103,
   "metadata": {},
   "outputs": [
    {
     "data": {
      "application/vnd.jupyter.widget-view+json": {
       "model_id": "1f4f1aa788064b23b149494c2ef2459a",
       "version_major": 2,
       "version_minor": 0
      },
      "text/html": [
       "<p>Failed to display Jupyter Widget of type <code>HBox</code>.</p>\n",
       "<p>\n",
       "  If you're reading this message in the Jupyter Notebook or JupyterLab Notebook, it may mean\n",
       "  that the widgets JavaScript is still loading. If this message persists, it\n",
       "  likely means that the widgets JavaScript library is either not installed or\n",
       "  not enabled. See the <a href=\"https://ipywidgets.readthedocs.io/en/stable/user_install.html\">Jupyter\n",
       "  Widgets Documentation</a> for setup instructions.\n",
       "</p>\n",
       "<p>\n",
       "  If you're reading this message in another frontend (for example, a static\n",
       "  rendering on GitHub or <a href=\"https://nbviewer.jupyter.org/\">NBViewer</a>),\n",
       "  it may mean that your frontend doesn't currently support widgets.\n",
       "</p>\n"
      ],
      "text/plain": [
       "HBox(children=(IntProgress(value=0, max=6142), HTML(value=u'')))"
      ]
     },
     "metadata": {},
     "output_type": "display_data"
    },
    {
     "name": "stdout",
     "output_type": "stream",
     "text": [
      "\n"
     ]
    }
   ],
   "source": [
    "keys_to_update = {}\n",
    "with open('cache/seen.json', 'r') as f:\n",
    "    seen = set(json.load(f))\n",
    "try:\n",
    "    with open('cache/keys_to_update.json', 'r') as f:\n",
    "        keys_to_update = json.load(f)\n",
    "except:\n",
    "    print(\"not good\")\n",
    "errors = []\n",
    "for i, hit in tqdm_notebook(enumerate(clswise_with_gt), total=len(clswise_with_gt)):\n",
    "    for j, question in enumerate(hit):\n",
    "        key = question2key(question)\n",
    "        if key in seen:\n",
    "            continue\n",
    "        seen.add(key)\n",
    "        updated, q_up = update_occluded(question, details)\n",
    "        if updated:\n",
    "            keys_to_update[key] = q_up\n",
    "        else:\n",
    "            if isinstance(q_up, tuple):\n",
    "                errors.append(q_up)\n",
    "with open('cache/seen.json', 'w+') as f:\n",
    "    json.dump(list(seen), f)\n",
    "with open('cache/keys_to_update.json', 'w+') as f:\n",
    "    json.dump(keys_to_update, f)"
   ]
  },
  {
   "cell_type": "markdown",
   "metadata": {},
   "source": [
    "#### Directly replace (deprecated. Must have class specific...)"
   ]
  },
  {
   "cell_type": "code",
   "execution_count": null,
   "metadata": {
    "collapsed": true
   },
   "outputs": [],
   "source": [
    "# for fname in os.listdir('BYCLASS/archived'):\n",
    "#     if 'gt_BYNAME' not in fname:\n",
    "#         continue\n",
    "#     point_data = []\n",
    "#     read_name = os.path.join('BYCLASS','archived', fname)\n",
    "#     write_name = os.path.join('BYCLASS', fname)\n",
    "#     with open(read_name, 'r') as f:\n",
    "#         for line in f.readlines():\n",
    "#             point_data.append(json.loads(line.strip()))\n",
    "#     for i, hit in tqdm(enumerate(point_data)):\n",
    "#         for j, question in enumerate(hit):\n",
    "#             key = question2key(question)\n",
    "#             if key not in keys_to_update:\n",
    "#                 continue\n",
    "#             q_update = keys_to_update[key]\n",
    "#             point_data[i][j] = q_update\n",
    "#     with open(write_name, 'w+') as f:\n",
    "#         for hit in point_data:\n",
    "#             f.write(\"{}\\n\".format(json.dumps(hit)))        "
   ]
  },
  {
   "cell_type": "markdown",
   "metadata": {},
   "source": [
    "### Replace occluded points with other points of the correct class\n",
    "\n",
    "Order of precidence: \n",
    "1. Points which were newly added (from othe occluded points)\n",
    "2. Randomly from larger reservoir"
   ]
  },
  {
   "cell_type": "code",
   "execution_count": 104,
   "metadata": {
    "collapsed": true
   },
   "outputs": [],
   "source": [
    "def get_random_question(cls, obj2fixed_points, obj2random_points, used):\n",
    "    try:\n",
    "        key, data = obj2fixed_points[cls].popitem()\n",
    "        return data\n",
    "    except KeyError:\n",
    "        try:\n",
    "            key, data = obj2random_points[cls].popitem()\n",
    "            return data\n",
    "        except KeyError:\n",
    "            raise RuntimeError(\"Not enough unsed items\")"
   ]
  },
  {
   "cell_type": "code",
   "execution_count": 12,
   "metadata": {},
   "outputs": [
    {
     "data": {
      "application/vnd.jupyter.widget-view+json": {
       "model_id": "2269106ef2da47e7b2c0ef90fa859c96",
       "version_major": 2,
       "version_minor": 0
      },
      "text/html": [
       "<p>Failed to display Jupyter Widget of type <code>HBox</code>.</p>\n",
       "<p>\n",
       "  If you're reading this message in the Jupyter Notebook or JupyterLab Notebook, it may mean\n",
       "  that the widgets JavaScript is still loading. If this message persists, it\n",
       "  likely means that the widgets JavaScript library is either not installed or\n",
       "  not enabled. See the <a href=\"https://ipywidgets.readthedocs.io/en/stable/user_install.html\">Jupyter\n",
       "  Widgets Documentation</a> for setup instructions.\n",
       "</p>\n",
       "<p>\n",
       "  If you're reading this message in another frontend (for example, a static\n",
       "  rendering on GitHub or <a href=\"https://nbviewer.jupyter.org/\">NBViewer</a>),\n",
       "  it may mean that your frontend doesn't currently support widgets.\n",
       "</p>\n"
      ],
      "text/plain": [
       "HBox(children=(IntProgress(value=0, max=7906), HTML(value=u'')))"
      ]
     },
     "metadata": {},
     "output_type": "display_data"
    },
    {
     "name": "stdout",
     "output_type": "stream",
     "text": [
      "\n"
     ]
    }
   ],
   "source": [
    "# Store the updated questions by object class\n",
    "point_data = clswise_with_gt\n",
    "obj2fixed_points = collections.defaultdict(dict)\n",
    "for k, qup in keys_to_update.items():\n",
    "    obj = k.split(\"_\")[2]\n",
    "    new_obj = list(list(qup.values())[0]['points']['data'].keys())[\n",
    "        0].split(\"_\")[0]\n",
    "    obj2fixed_points[new_obj][k] = qup\n",
    "obj2random_points = collections.defaultdict(dict)\n",
    "for i, hit in tqdm_notebook(enumerate(point_data), total=len(point_data)):\n",
    "    for j, question in enumerate(hit):\n",
    "        key = question2key(question)\n",
    "        obj = key.split(\"_\")[2]\n",
    "        if key not in keys_to_update:\n",
    "            obj2random_points[obj][key] = question"
   ]
  },
  {
   "cell_type": "code",
   "execution_count": null,
   "metadata": {
    "collapsed": true
   },
   "outputs": [],
   "source": [
    "# This doesn't care about classes since it is all jumbled\n",
    "read_name = 'archived/clswise_with_gt.json'\n",
    "write_name = 'clswise_with_gt.json'\n",
    "point_data = []\n",
    "print(\"Reading {}\".format(read_name))\n",
    "with open(read_name, 'r') as f:\n",
    "    for line in tqdm_notebook(f.readlines()):\n",
    "        point_data.append(json.loads(line.strip()))\n",
    "for i, hit in tqdm_notebook(enumerate(point_data), total=len(point_data)):\n",
    "    for j, question in enumerate(hit):\n",
    "        key = question2key(question)\n",
    "        if key not in keys_to_update:\n",
    "            continue\n",
    "        q_update = keys_to_update[key]\n",
    "        point_data[i][j] = q_update\n",
    "with open(write_name, 'w+') as f:\n",
    "    for hit in point_data:\n",
    "        f.write(\"{}\\n\".format(json.dumps(hit)))        "
   ]
  },
  {
   "cell_type": "code",
   "execution_count": 14,
   "metadata": {
    "scrolled": true
   },
   "outputs": [
    {
     "name": "stdout",
     "output_type": "stream",
     "text": [
      "Copying items\n"
     ]
    },
    {
     "data": {
      "application/vnd.jupyter.widget-view+json": {
       "model_id": "75552a64f4e843a8860cbfe67dfe31d9",
       "version_major": 2,
       "version_minor": 0
      },
      "text/html": [
       "<p>Failed to display Jupyter Widget of type <code>HBox</code>.</p>\n",
       "<p>\n",
       "  If you're reading this message in the Jupyter Notebook or JupyterLab Notebook, it may mean\n",
       "  that the widgets JavaScript is still loading. If this message persists, it\n",
       "  likely means that the widgets JavaScript library is either not installed or\n",
       "  not enabled. See the <a href=\"https://ipywidgets.readthedocs.io/en/stable/user_install.html\">Jupyter\n",
       "  Widgets Documentation</a> for setup instructions.\n",
       "</p>\n",
       "<p>\n",
       "  If you're reading this message in another frontend (for example, a static\n",
       "  rendering on GitHub or <a href=\"https://nbviewer.jupyter.org/\">NBViewer</a>),\n",
       "  it may mean that your frontend doesn't currently support widgets.\n",
       "</p>\n"
      ],
      "text/plain": [
       "HBox(children=(IntProgress(value=1, bar_style=u'info', max=1), HTML(value=u'')))"
      ]
     },
     "metadata": {},
     "output_type": "display_data"
    },
    {
     "data": {
      "application/vnd.jupyter.widget-view+json": {
       "model_id": "f115c3cabed642ec99359899e90d4cbd",
       "version_major": 2,
       "version_minor": 0
      },
      "text/html": [
       "<p>Failed to display Jupyter Widget of type <code>HBox</code>.</p>\n",
       "<p>\n",
       "  If you're reading this message in the Jupyter Notebook or JupyterLab Notebook, it may mean\n",
       "  that the widgets JavaScript is still loading. If this message persists, it\n",
       "  likely means that the widgets JavaScript library is either not installed or\n",
       "  not enabled. See the <a href=\"https://ipywidgets.readthedocs.io/en/stable/user_install.html\">Jupyter\n",
       "  Widgets Documentation</a> for setup instructions.\n",
       "</p>\n",
       "<p>\n",
       "  If you're reading this message in another frontend (for example, a static\n",
       "  rendering on GitHub or <a href=\"https://nbviewer.jupyter.org/\">NBViewer</a>),\n",
       "  it may mean that your frontend doesn't currently support widgets.\n",
       "</p>\n"
      ],
      "text/plain": [
       "HBox(children=(IntProgress(value=0, max=20), HTML(value=u'')))"
      ]
     },
     "metadata": {},
     "output_type": "display_data"
    },
    {
     "name": "stdout",
     "output_type": "stream",
     "text": [
      "Done\n",
      "BYCLASS/archived/gt_BYNAME_person_centered.json\n"
     ]
    },
    {
     "data": {
      "application/vnd.jupyter.widget-view+json": {
       "model_id": "0fb79eebc6524144ad2f7f3ee4eaf8c8",
       "version_major": 2,
       "version_minor": 0
      },
      "text/html": [
       "<p>Failed to display Jupyter Widget of type <code>HBox</code>.</p>\n",
       "<p>\n",
       "  If you're reading this message in the Jupyter Notebook or JupyterLab Notebook, it may mean\n",
       "  that the widgets JavaScript is still loading. If this message persists, it\n",
       "  likely means that the widgets JavaScript library is either not installed or\n",
       "  not enabled. See the <a href=\"https://ipywidgets.readthedocs.io/en/stable/user_install.html\">Jupyter\n",
       "  Widgets Documentation</a> for setup instructions.\n",
       "</p>\n",
       "<p>\n",
       "  If you're reading this message in another frontend (for example, a static\n",
       "  rendering on GitHub or <a href=\"https://nbviewer.jupyter.org/\">NBViewer</a>),\n",
       "  it may mean that your frontend doesn't currently support widgets.\n",
       "</p>\n"
      ],
      "text/plain": [
       "HBox(children=(IntProgress(value=0, max=4206), HTML(value=u'')))"
      ]
     },
     "metadata": {},
     "output_type": "display_data"
    },
    {
     "name": "stdout",
     "output_type": "stream",
     "text": [
      "BYCLASS/archived/gt_BYNAME_bus_centered.json\n"
     ]
    },
    {
     "data": {
      "application/vnd.jupyter.widget-view+json": {
       "model_id": "b295df30ccde4f59bd12290bed2a9329",
       "version_major": 2,
       "version_minor": 0
      },
      "text/html": [
       "<p>Failed to display Jupyter Widget of type <code>HBox</code>.</p>\n",
       "<p>\n",
       "  If you're reading this message in the Jupyter Notebook or JupyterLab Notebook, it may mean\n",
       "  that the widgets JavaScript is still loading. If this message persists, it\n",
       "  likely means that the widgets JavaScript library is either not installed or\n",
       "  not enabled. See the <a href=\"https://ipywidgets.readthedocs.io/en/stable/user_install.html\">Jupyter\n",
       "  Widgets Documentation</a> for setup instructions.\n",
       "</p>\n",
       "<p>\n",
       "  If you're reading this message in another frontend (for example, a static\n",
       "  rendering on GitHub or <a href=\"https://nbviewer.jupyter.org/\">NBViewer</a>),\n",
       "  it may mean that your frontend doesn't currently support widgets.\n",
       "</p>\n"
      ],
      "text/plain": [
       "HBox(children=(IntProgress(value=0, max=240), HTML(value=u'')))"
      ]
     },
     "metadata": {},
     "output_type": "display_data"
    },
    {
     "name": "stdout",
     "output_type": "stream",
     "text": [
      "BYCLASS/archived/gt_BYNAME_car_centered.json\n"
     ]
    },
    {
     "data": {
      "application/vnd.jupyter.widget-view+json": {
       "model_id": "7b595ad3df424d27ac8b4d3ec8872de0",
       "version_major": 2,
       "version_minor": 0
      },
      "text/html": [
       "<p>Failed to display Jupyter Widget of type <code>HBox</code>.</p>\n",
       "<p>\n",
       "  If you're reading this message in the Jupyter Notebook or JupyterLab Notebook, it may mean\n",
       "  that the widgets JavaScript is still loading. If this message persists, it\n",
       "  likely means that the widgets JavaScript library is either not installed or\n",
       "  not enabled. See the <a href=\"https://ipywidgets.readthedocs.io/en/stable/user_install.html\">Jupyter\n",
       "  Widgets Documentation</a> for setup instructions.\n",
       "</p>\n",
       "<p>\n",
       "  If you're reading this message in another frontend (for example, a static\n",
       "  rendering on GitHub or <a href=\"https://nbviewer.jupyter.org/\">NBViewer</a>),\n",
       "  it may mean that your frontend doesn't currently support widgets.\n",
       "</p>\n"
      ],
      "text/plain": [
       "HBox(children=(IntProgress(value=0, max=514), HTML(value=u'')))"
      ]
     },
     "metadata": {},
     "output_type": "display_data"
    },
    {
     "name": "stdout",
     "output_type": "stream",
     "text": [
      "BYCLASS/archived/gt_BYNAME_dog_centered.json\n"
     ]
    },
    {
     "data": {
      "application/vnd.jupyter.widget-view+json": {
       "model_id": "4ce37f8fb7d44fdd802e48b4c2a4206c",
       "version_major": 2,
       "version_minor": 0
      },
      "text/html": [
       "<p>Failed to display Jupyter Widget of type <code>HBox</code>.</p>\n",
       "<p>\n",
       "  If you're reading this message in the Jupyter Notebook or JupyterLab Notebook, it may mean\n",
       "  that the widgets JavaScript is still loading. If this message persists, it\n",
       "  likely means that the widgets JavaScript library is either not installed or\n",
       "  not enabled. See the <a href=\"https://ipywidgets.readthedocs.io/en/stable/user_install.html\">Jupyter\n",
       "  Widgets Documentation</a> for setup instructions.\n",
       "</p>\n",
       "<p>\n",
       "  If you're reading this message in another frontend (for example, a static\n",
       "  rendering on GitHub or <a href=\"https://nbviewer.jupyter.org/\">NBViewer</a>),\n",
       "  it may mean that your frontend doesn't currently support widgets.\n",
       "</p>\n"
      ],
      "text/plain": [
       "HBox(children=(IntProgress(value=0, max=706), HTML(value=u'')))"
      ]
     },
     "metadata": {},
     "output_type": "display_data"
    },
    {
     "name": "stdout",
     "output_type": "stream",
     "text": [
      "BYCLASS/archived/gt_BYNAME_horse_centered.json\n"
     ]
    },
    {
     "data": {
      "application/vnd.jupyter.widget-view+json": {
       "model_id": "784216119dbb458cbbee10e5c2fbbb42",
       "version_major": 2,
       "version_minor": 0
      },
      "text/html": [
       "<p>Failed to display Jupyter Widget of type <code>HBox</code>.</p>\n",
       "<p>\n",
       "  If you're reading this message in the Jupyter Notebook or JupyterLab Notebook, it may mean\n",
       "  that the widgets JavaScript is still loading. If this message persists, it\n",
       "  likely means that the widgets JavaScript library is either not installed or\n",
       "  not enabled. See the <a href=\"https://ipywidgets.readthedocs.io/en/stable/user_install.html\">Jupyter\n",
       "  Widgets Documentation</a> for setup instructions.\n",
       "</p>\n",
       "<p>\n",
       "  If you're reading this message in another frontend (for example, a static\n",
       "  rendering on GitHub or <a href=\"https://nbviewer.jupyter.org/\">NBViewer</a>),\n",
       "  it may mean that your frontend doesn't currently support widgets.\n",
       "</p>\n"
      ],
      "text/plain": [
       "HBox(children=(IntProgress(value=0, max=347), HTML(value=u'')))"
      ]
     },
     "metadata": {},
     "output_type": "display_data"
    },
    {
     "name": "stdout",
     "output_type": "stream",
     "text": [
      "BYCLASS/archived/gt_BYNAME_pottedplant_centered.json\n"
     ]
    },
    {
     "data": {
      "application/vnd.jupyter.widget-view+json": {
       "model_id": "6b28dee345a44ce59b816b1cc2ef8fab",
       "version_major": 2,
       "version_minor": 0
      },
      "text/html": [
       "<p>Failed to display Jupyter Widget of type <code>HBox</code>.</p>\n",
       "<p>\n",
       "  If you're reading this message in the Jupyter Notebook or JupyterLab Notebook, it may mean\n",
       "  that the widgets JavaScript is still loading. If this message persists, it\n",
       "  likely means that the widgets JavaScript library is either not installed or\n",
       "  not enabled. See the <a href=\"https://ipywidgets.readthedocs.io/en/stable/user_install.html\">Jupyter\n",
       "  Widgets Documentation</a> for setup instructions.\n",
       "</p>\n",
       "<p>\n",
       "  If you're reading this message in another frontend (for example, a static\n",
       "  rendering on GitHub or <a href=\"https://nbviewer.jupyter.org/\">NBViewer</a>),\n",
       "  it may mean that your frontend doesn't currently support widgets.\n",
       "</p>\n"
      ],
      "text/plain": [
       "HBox(children=(IntProgress(value=0, max=72), HTML(value=u'')))"
      ]
     },
     "metadata": {},
     "output_type": "display_data"
    },
    {
     "name": "stdout",
     "output_type": "stream",
     "text": [
      "BYCLASS/archived/gt_BYNAME_cow_centered.json\n"
     ]
    },
    {
     "data": {
      "application/vnd.jupyter.widget-view+json": {
       "model_id": "289e73d892db4dee97b3b23fe5eff388",
       "version_major": 2,
       "version_minor": 0
      },
      "text/html": [
       "<p>Failed to display Jupyter Widget of type <code>HBox</code>.</p>\n",
       "<p>\n",
       "  If you're reading this message in the Jupyter Notebook or JupyterLab Notebook, it may mean\n",
       "  that the widgets JavaScript is still loading. If this message persists, it\n",
       "  likely means that the widgets JavaScript library is either not installed or\n",
       "  not enabled. See the <a href=\"https://ipywidgets.readthedocs.io/en/stable/user_install.html\">Jupyter\n",
       "  Widgets Documentation</a> for setup instructions.\n",
       "</p>\n",
       "<p>\n",
       "  If you're reading this message in another frontend (for example, a static\n",
       "  rendering on GitHub or <a href=\"https://nbviewer.jupyter.org/\">NBViewer</a>),\n",
       "  it may mean that your frontend doesn't currently support widgets.\n",
       "</p>\n"
      ],
      "text/plain": [
       "HBox(children=(IntProgress(value=0, max=181), HTML(value=u'')))"
      ]
     },
     "metadata": {},
     "output_type": "display_data"
    },
    {
     "name": "stdout",
     "output_type": "stream",
     "text": [
      "BYCLASS/archived/gt_BYNAME_cat_centered.json\n"
     ]
    },
    {
     "data": {
      "application/vnd.jupyter.widget-view+json": {
       "model_id": "5a4cb50804054f85819abed900890ca3",
       "version_major": 2,
       "version_minor": 0
      },
      "text/html": [
       "<p>Failed to display Jupyter Widget of type <code>HBox</code>.</p>\n",
       "<p>\n",
       "  If you're reading this message in the Jupyter Notebook or JupyterLab Notebook, it may mean\n",
       "  that the widgets JavaScript is still loading. If this message persists, it\n",
       "  likely means that the widgets JavaScript library is either not installed or\n",
       "  not enabled. See the <a href=\"https://ipywidgets.readthedocs.io/en/stable/user_install.html\">Jupyter\n",
       "  Widgets Documentation</a> for setup instructions.\n",
       "</p>\n",
       "<p>\n",
       "  If you're reading this message in another frontend (for example, a static\n",
       "  rendering on GitHub or <a href=\"https://nbviewer.jupyter.org/\">NBViewer</a>),\n",
       "  it may mean that your frontend doesn't currently support widgets.\n",
       "</p>\n"
      ],
      "text/plain": [
       "HBox(children=(IntProgress(value=0, max=537), HTML(value=u'')))"
      ]
     },
     "metadata": {},
     "output_type": "display_data"
    },
    {
     "name": "stdout",
     "output_type": "stream",
     "text": [
      "BYCLASS/archived/gt_BYNAME_aeroplane_centered.json\n"
     ]
    },
    {
     "data": {
      "application/vnd.jupyter.widget-view+json": {
       "model_id": "d8707bf2e4994263883d3ea6defe823f",
       "version_major": 2,
       "version_minor": 0
      },
      "text/html": [
       "<p>Failed to display Jupyter Widget of type <code>HBox</code>.</p>\n",
       "<p>\n",
       "  If you're reading this message in the Jupyter Notebook or JupyterLab Notebook, it may mean\n",
       "  that the widgets JavaScript is still loading. If this message persists, it\n",
       "  likely means that the widgets JavaScript library is either not installed or\n",
       "  not enabled. See the <a href=\"https://ipywidgets.readthedocs.io/en/stable/user_install.html\">Jupyter\n",
       "  Widgets Documentation</a> for setup instructions.\n",
       "</p>\n",
       "<p>\n",
       "  If you're reading this message in another frontend (for example, a static\n",
       "  rendering on GitHub or <a href=\"https://nbviewer.jupyter.org/\">NBViewer</a>),\n",
       "  it may mean that your frontend doesn't currently support widgets.\n",
       "</p>\n"
      ],
      "text/plain": [
       "HBox(children=(IntProgress(value=0, max=187), HTML(value=u'')))"
      ]
     },
     "metadata": {},
     "output_type": "display_data"
    },
    {
     "name": "stdout",
     "output_type": "stream",
     "text": [
      "BYCLASS/archived/gt_BYNAME_train_centered.json\n"
     ]
    },
    {
     "data": {
      "application/vnd.jupyter.widget-view+json": {
       "model_id": "ee4fb16781cf49dd9bd17ccce3de8f9a",
       "version_major": 2,
       "version_minor": 0
      },
      "text/html": [
       "<p>Failed to display Jupyter Widget of type <code>HBox</code>.</p>\n",
       "<p>\n",
       "  If you're reading this message in the Jupyter Notebook or JupyterLab Notebook, it may mean\n",
       "  that the widgets JavaScript is still loading. If this message persists, it\n",
       "  likely means that the widgets JavaScript library is either not installed or\n",
       "  not enabled. See the <a href=\"https://ipywidgets.readthedocs.io/en/stable/user_install.html\">Jupyter\n",
       "  Widgets Documentation</a> for setup instructions.\n",
       "</p>\n",
       "<p>\n",
       "  If you're reading this message in another frontend (for example, a static\n",
       "  rendering on GitHub or <a href=\"https://nbviewer.jupyter.org/\">NBViewer</a>),\n",
       "  it may mean that your frontend doesn't currently support widgets.\n",
       "</p>\n"
      ],
      "text/plain": [
       "HBox(children=(IntProgress(value=0, max=121), HTML(value=u'')))"
      ]
     },
     "metadata": {},
     "output_type": "display_data"
    },
    {
     "name": "stdout",
     "output_type": "stream",
     "text": [
      "BYCLASS/archived/gt_BYNAME_motorbike_centered.json\n"
     ]
    },
    {
     "data": {
      "application/vnd.jupyter.widget-view+json": {
       "model_id": "a1da6204adea4d15bed74e409332ee12",
       "version_major": 2,
       "version_minor": 0
      },
      "text/html": [
       "<p>Failed to display Jupyter Widget of type <code>HBox</code>.</p>\n",
       "<p>\n",
       "  If you're reading this message in the Jupyter Notebook or JupyterLab Notebook, it may mean\n",
       "  that the widgets JavaScript is still loading. If this message persists, it\n",
       "  likely means that the widgets JavaScript library is either not installed or\n",
       "  not enabled. See the <a href=\"https://ipywidgets.readthedocs.io/en/stable/user_install.html\">Jupyter\n",
       "  Widgets Documentation</a> for setup instructions.\n",
       "</p>\n",
       "<p>\n",
       "  If you're reading this message in another frontend (for example, a static\n",
       "  rendering on GitHub or <a href=\"https://nbviewer.jupyter.org/\">NBViewer</a>),\n",
       "  it may mean that your frontend doesn't currently support widgets.\n",
       "</p>\n"
      ],
      "text/plain": [
       "HBox(children=(IntProgress(value=0, max=59), HTML(value=u'')))"
      ]
     },
     "metadata": {},
     "output_type": "display_data"
    },
    {
     "name": "stdout",
     "output_type": "stream",
     "text": [
      "BYCLASS/archived/gt_BYNAME_bottle_centered.json\n"
     ]
    },
    {
     "data": {
      "application/vnd.jupyter.widget-view+json": {
       "model_id": "66a12581a2204781bdf42e05131c11b4",
       "version_major": 2,
       "version_minor": 0
      },
      "text/html": [
       "<p>Failed to display Jupyter Widget of type <code>HBox</code>.</p>\n",
       "<p>\n",
       "  If you're reading this message in the Jupyter Notebook or JupyterLab Notebook, it may mean\n",
       "  that the widgets JavaScript is still loading. If this message persists, it\n",
       "  likely means that the widgets JavaScript library is either not installed or\n",
       "  not enabled. See the <a href=\"https://ipywidgets.readthedocs.io/en/stable/user_install.html\">Jupyter\n",
       "  Widgets Documentation</a> for setup instructions.\n",
       "</p>\n",
       "<p>\n",
       "  If you're reading this message in another frontend (for example, a static\n",
       "  rendering on GitHub or <a href=\"https://nbviewer.jupyter.org/\">NBViewer</a>),\n",
       "  it may mean that your frontend doesn't currently support widgets.\n",
       "</p>\n"
      ],
      "text/plain": [
       "HBox(children=(IntProgress(value=0, max=86), HTML(value=u'')))"
      ]
     },
     "metadata": {},
     "output_type": "display_data"
    },
    {
     "name": "stdout",
     "output_type": "stream",
     "text": [
      "BYCLASS/archived/gt_BYNAME_sheep_centered.json\n"
     ]
    },
    {
     "data": {
      "application/vnd.jupyter.widget-view+json": {
       "model_id": "3dc96144c50c43c18f46e7b3bc7056d0",
       "version_major": 2,
       "version_minor": 0
      },
      "text/html": [
       "<p>Failed to display Jupyter Widget of type <code>HBox</code>.</p>\n",
       "<p>\n",
       "  If you're reading this message in the Jupyter Notebook or JupyterLab Notebook, it may mean\n",
       "  that the widgets JavaScript is still loading. If this message persists, it\n",
       "  likely means that the widgets JavaScript library is either not installed or\n",
       "  not enabled. See the <a href=\"https://ipywidgets.readthedocs.io/en/stable/user_install.html\">Jupyter\n",
       "  Widgets Documentation</a> for setup instructions.\n",
       "</p>\n",
       "<p>\n",
       "  If you're reading this message in another frontend (for example, a static\n",
       "  rendering on GitHub or <a href=\"https://nbviewer.jupyter.org/\">NBViewer</a>),\n",
       "  it may mean that your frontend doesn't currently support widgets.\n",
       "</p>\n"
      ],
      "text/plain": [
       "HBox(children=(IntProgress(value=0, max=253), HTML(value=u'')))"
      ]
     },
     "metadata": {},
     "output_type": "display_data"
    },
    {
     "name": "stdout",
     "output_type": "stream",
     "text": [
      "BYCLASS/archived/gt_BYNAME_bicycle_centered.json\n"
     ]
    },
    {
     "data": {
      "application/vnd.jupyter.widget-view+json": {
       "model_id": "f77f0e5288284c1a8a5af91c5bb2f230",
       "version_major": 2,
       "version_minor": 0
      },
      "text/html": [
       "<p>Failed to display Jupyter Widget of type <code>HBox</code>.</p>\n",
       "<p>\n",
       "  If you're reading this message in the Jupyter Notebook or JupyterLab Notebook, it may mean\n",
       "  that the widgets JavaScript is still loading. If this message persists, it\n",
       "  likely means that the widgets JavaScript library is either not installed or\n",
       "  not enabled. See the <a href=\"https://ipywidgets.readthedocs.io/en/stable/user_install.html\">Jupyter\n",
       "  Widgets Documentation</a> for setup instructions.\n",
       "</p>\n",
       "<p>\n",
       "  If you're reading this message in another frontend (for example, a static\n",
       "  rendering on GitHub or <a href=\"https://nbviewer.jupyter.org/\">NBViewer</a>),\n",
       "  it may mean that your frontend doesn't currently support widgets.\n",
       "</p>\n"
      ],
      "text/plain": [
       "HBox(children=(IntProgress(value=0, max=112), HTML(value=u'')))"
      ]
     },
     "metadata": {},
     "output_type": "display_data"
    },
    {
     "name": "stdout",
     "output_type": "stream",
     "text": [
      "BYCLASS/archived/gt_BYNAME_bird_centered.json\n"
     ]
    },
    {
     "data": {
      "application/vnd.jupyter.widget-view+json": {
       "model_id": "444a4cd7acee4bab9d803279b3e3cb64",
       "version_major": 2,
       "version_minor": 0
      },
      "text/html": [
       "<p>Failed to display Jupyter Widget of type <code>HBox</code>.</p>\n",
       "<p>\n",
       "  If you're reading this message in the Jupyter Notebook or JupyterLab Notebook, it may mean\n",
       "  that the widgets JavaScript is still loading. If this message persists, it\n",
       "  likely means that the widgets JavaScript library is either not installed or\n",
       "  not enabled. See the <a href=\"https://ipywidgets.readthedocs.io/en/stable/user_install.html\">Jupyter\n",
       "  Widgets Documentation</a> for setup instructions.\n",
       "</p>\n",
       "<p>\n",
       "  If you're reading this message in another frontend (for example, a static\n",
       "  rendering on GitHub or <a href=\"https://nbviewer.jupyter.org/\">NBViewer</a>),\n",
       "  it may mean that your frontend doesn't currently support widgets.\n",
       "</p>\n"
      ],
      "text/plain": [
       "HBox(children=(IntProgress(value=0, max=285), HTML(value=u'')))"
      ]
     },
     "metadata": {},
     "output_type": "display_data"
    }
   ],
   "source": [
    "used = set()\n",
    "import copy\n",
    "print(\"Copying items\")\n",
    "obj2fp = tqdm_notebook(copy.deepcopy(obj2fixed_points))\n",
    "obj2rp = tqdm_notebook(copy.deepcopy(obj2random_points))\n",
    "print(\"Done\")\n",
    "for fname in os.listdir('BYCLASS/archived'):\n",
    "    if 'gt_BYNAME' not in fname:\n",
    "        continue\n",
    "    point_data = []\n",
    "    read_name = os.path.join('BYCLASS','archived', fname)\n",
    "    tqdm.write(read_name)\n",
    "    write_name = os.path.join('BYCLASS', fname)\n",
    "    with open(read_name, 'r') as f:\n",
    "        for line in f.readlines():\n",
    "            point_data.append(json.loads(line.strip()))\n",
    "    class_key = question2key(point_data[0][0])\n",
    "    this_class = class_key.split(\"_\")[2]\n",
    "    \n",
    "    for i, hit in tqdm_notebook(enumerate(point_data), total=len(point_data)):\n",
    "        for j, question in enumerate(hit):\n",
    "            key = question2key(question)\n",
    "            if key not in keys_to_update:\n",
    "                continue\n",
    "#             q_update = keys_to_update[key]\n",
    "#             cls = list(list(q_update.values())[0]['points']['data'].keys())[0].split(\"_\")[0]\n",
    "#             cls = key.split(\"_\")[2]\n",
    "            q_update = get_random_question(this_class, obj2fp, obj2rp, used)\n",
    "            if question2key(q_update).split(\"_\")[2] != this_class:\n",
    "                raise RuntimeError(\"{} != {}\".format(this_class, question2key(q_update).split(\"_\")[2]))\n",
    "            point_data[i][j] = q_update\n",
    "            \n",
    "    with open(write_name, 'w+') as f:\n",
    "        for hit in point_data:\n",
    "            f.write(\"{}\\n\".format(json.dumps(hit)))        "
   ]
  },
  {
   "cell_type": "markdown",
   "metadata": {},
   "source": [
    "## Remove points close to the border\n",
    "\n",
    "* Simply delete all points which lie within threshold distance of the image border"
   ]
  },
  {
   "cell_type": "code",
   "execution_count": 9,
   "metadata": {
    "collapsed": true
   },
   "outputs": [],
   "source": [
    "def separate_key(key):\n",
    "    vals = key.rsplit(\"_\", 5)\n",
    "    return {\n",
    "        'imid': vals[0],\n",
    "        'obj_id': vals[1],\n",
    "        'inst_id': vals[2],\n",
    "        'part_id': vals[3],\n",
    "        'xCoord': vals[4],\n",
    "        'yCoord': vals[5]}\n",
    "\n",
    "\n",
    "def get_im_from_s3(imid):\n",
    "    from skimage import io\n",
    "    if isinstance(imid, int):\n",
    "        imid = str(imid)[:4] + \"_\" + str(imid)[4:]\n",
    "    prefix = 'https://s3.amazonaws.com/visualaipascalparts/'\n",
    "    suffix = '.jpg'\n",
    "    uri = prefix + imid + suffix\n",
    "    img = io.imread(uri)\n",
    "    img = Image.fromarray(img)\n",
    "    return img"
   ]
  },
  {
   "cell_type": "code",
   "execution_count": 16,
   "metadata": {},
   "outputs": [
    {
     "name": "stdout",
     "output_type": "stream",
     "text": [
      "Reading []\n"
     ]
    },
    {
     "data": {
      "application/vnd.jupyter.widget-view+json": {
       "model_id": "bc77f7a52b20424f9d262621fdc4cfbd",
       "version_major": 2,
       "version_minor": 0
      },
      "text/html": [
       "<p>Failed to display Jupyter Widget of type <code>HBox</code>.</p>\n",
       "<p>\n",
       "  If you're reading this message in the Jupyter Notebook or JupyterLab Notebook, it may mean\n",
       "  that the widgets JavaScript is still loading. If this message persists, it\n",
       "  likely means that the widgets JavaScript library is either not installed or\n",
       "  not enabled. See the <a href=\"https://ipywidgets.readthedocs.io/en/stable/user_install.html\">Jupyter\n",
       "  Widgets Documentation</a> for setup instructions.\n",
       "</p>\n",
       "<p>\n",
       "  If you're reading this message in another frontend (for example, a static\n",
       "  rendering on GitHub or <a href=\"https://nbviewer.jupyter.org/\">NBViewer</a>),\n",
       "  it may mean that your frontend doesn't currently support widgets.\n",
       "</p>\n"
      ],
      "text/plain": [
       "HBox(children=(IntProgress(value=0, max=7906), HTML(value=u'')))"
      ]
     },
     "metadata": {},
     "output_type": "display_data"
    },
    {
     "name": "stdout",
     "output_type": "stream",
     "text": [
      "\n"
     ]
    }
   ],
   "source": [
    "# This doesn't care about classes since it is all jumbled\n",
    "read_name = 'clswise_with_gt.json'\n",
    "write_name = read_name\n",
    "point_data = []\n",
    "print(\"Reading {}\".format(point_data))\n",
    "with open(read_name, 'r') as f:\n",
    "    for line in tqdm_notebook(f.readlines()):\n",
    "        point_data.append(json.loads(line.strip()))"
   ]
  },
  {
   "cell_type": "markdown",
   "metadata": {},
   "source": [
    "### Find all invalid points\n",
    "#### Could start from here if you wish to redo the dataset"
   ]
  },
  {
   "cell_type": "code",
   "execution_count": 115,
   "metadata": {},
   "outputs": [
    {
     "data": {
      "application/vnd.jupyter.widget-view+json": {
       "model_id": "e075cb92241b423cbb66f0d181edca36",
       "version_major": 2,
       "version_minor": 0
      },
      "text/html": [
       "<p>Failed to display Jupyter Widget of type <code>HBox</code>.</p>\n",
       "<p>\n",
       "  If you're reading this message in the Jupyter Notebook or JupyterLab Notebook, it may mean\n",
       "  that the widgets JavaScript is still loading. If this message persists, it\n",
       "  likely means that the widgets JavaScript library is either not installed or\n",
       "  not enabled. See the <a href=\"https://ipywidgets.readthedocs.io/en/stable/user_install.html\">Jupyter\n",
       "  Widgets Documentation</a> for setup instructions.\n",
       "</p>\n",
       "<p>\n",
       "  If you're reading this message in another frontend (for example, a static\n",
       "  rendering on GitHub or <a href=\"https://nbviewer.jupyter.org/\">NBViewer</a>),\n",
       "  it may mean that your frontend doesn't currently support widgets.\n",
       "</p>\n"
      ],
      "text/plain": [
       "HBox(children=(IntProgress(value=1, bar_style=u'info', max=1), HTML(value=u'')))"
      ]
     },
     "metadata": {},
     "output_type": "display_data"
    },
    {
     "name": "stdout",
     "output_type": "stream",
     "text": [
      "\n"
     ]
    }
   ],
   "source": [
    "point_data = []\n",
    "with open('thresholded_clswise_with_gt.json', 'r') as f:\n",
    "    for l in tqdm_notebook(f):\n",
    "        point_data.append(json.loads(l.strip()))\n",
    "    "
   ]
  },
  {
   "cell_type": "code",
   "execution_count": 116,
   "metadata": {},
   "outputs": [
    {
     "data": {
      "application/vnd.jupyter.widget-view+json": {
       "model_id": "a059cde4075c4a7e8d3d67073446f348",
       "version_major": 2,
       "version_minor": 0
      },
      "text/html": [
       "<p>Failed to display Jupyter Widget of type <code>HBox</code>.</p>\n",
       "<p>\n",
       "  If you're reading this message in the Jupyter Notebook or JupyterLab Notebook, it may mean\n",
       "  that the widgets JavaScript is still loading. If this message persists, it\n",
       "  likely means that the widgets JavaScript library is either not installed or\n",
       "  not enabled. See the <a href=\"https://ipywidgets.readthedocs.io/en/stable/user_install.html\">Jupyter\n",
       "  Widgets Documentation</a> for setup instructions.\n",
       "</p>\n",
       "<p>\n",
       "  If you're reading this message in another frontend (for example, a static\n",
       "  rendering on GitHub or <a href=\"https://nbviewer.jupyter.org/\">NBViewer</a>),\n",
       "  it may mean that your frontend doesn't currently support widgets.\n",
       "</p>\n"
      ],
      "text/plain": [
       "HBox(children=(IntProgress(value=0, max=6142), HTML(value=u'')))"
      ]
     },
     "metadata": {},
     "output_type": "display_data"
    },
    {
     "name": "stdout",
     "output_type": "stream",
     "text": [
      "\n",
      "7382.0 keys or 2.40\\% of dataset lie on border.\n",
      "Caching keys_on_border\n"
     ]
    }
   ],
   "source": [
    "keys_on_border = set()\n",
    "with open('cache/keys_on_border.json', 'r') as f:\n",
    "    threshold = int(f.readline().strip())\n",
    "    keys_on_border = set(json.load(f))\n",
    "num_on_border = 0.0\n",
    "total = 0.0\n",
    "# threshold = 10  # Minimum number of pixels away from border a point must be to be valid\n",
    "for i, hit in tqdm_notebook(enumerate(point_data), total=len(point_data)):\n",
    "    for j, question in enumerate(hit):\n",
    "        key = question2key(question)\n",
    "        keydat = separate_key(key)\n",
    "        x,y = int(keydat['xCoord']), int(keydat['yCoord'])\n",
    "        imid = int(\"\".join(keydat['imid'].split(\"_\")))\n",
    "        img = details.getImgs(imgs=imid)[0]\n",
    "        w,h = int(img['width']), int(img['height'])\n",
    "#         img = get_im_from_s3(keydat['imid'])\n",
    "#         w,h = img.size\n",
    "        if x < threshold or x > w-threshold:\n",
    "#             print(w,h,x,y)\n",
    "            keys_on_border.add(key)\n",
    "            num_on_border+=1\n",
    "        elif y < threshold or y > h - threshold:\n",
    "#             print(w,h,x,y)\n",
    "            keys_on_border.add(key)\n",
    "            num_on_border+=1\n",
    "        total+=1\n",
    "print(\"{} keys or {:0.2f}\\% of dataset lie on border.\".format(num_on_border, (num_on_border/total)*100))\n",
    "print(\"Caching keys_on_border\")\n",
    "with open('cache/keys_on_border.json', 'w+') as f:\n",
    "    f.write(\"{}\\n\".format(threshold))\n",
    "    json.dump(list(keys_on_border), f)\n"
   ]
  },
  {
   "cell_type": "markdown",
   "metadata": {},
   "source": [
    "### Flatten point_data  to only include unique, legal keys"
   ]
  },
  {
   "cell_type": "markdown",
   "metadata": {},
   "source": [
    "#### Find all gt points to remove from the stew"
   ]
  },
  {
   "cell_type": "code",
   "execution_count": 117,
   "metadata": {
    "scrolled": true
   },
   "outputs": [
    {
     "data": {
      "application/vnd.jupyter.widget-view+json": {
       "model_id": "26467b53903e4667ab3cbba1c6a858d7",
       "version_major": 2,
       "version_minor": 0
      },
      "text/html": [
       "<p>Failed to display Jupyter Widget of type <code>HBox</code>.</p>\n",
       "<p>\n",
       "  If you're reading this message in the Jupyter Notebook or JupyterLab Notebook, it may mean\n",
       "  that the widgets JavaScript is still loading. If this message persists, it\n",
       "  likely means that the widgets JavaScript library is either not installed or\n",
       "  not enabled. See the <a href=\"https://ipywidgets.readthedocs.io/en/stable/user_install.html\">Jupyter\n",
       "  Widgets Documentation</a> for setup instructions.\n",
       "</p>\n",
       "<p>\n",
       "  If you're reading this message in another frontend (for example, a static\n",
       "  rendering on GitHub or <a href=\"https://nbviewer.jupyter.org/\">NBViewer</a>),\n",
       "  it may mean that your frontend doesn't currently support widgets.\n",
       "</p>\n"
      ],
      "text/plain": [
       "HBox(children=(IntProgress(value=0, max=6142), HTML(value=u'')))"
      ]
     },
     "metadata": {},
     "output_type": "display_data"
    },
    {
     "name": "stdout",
     "output_type": "stream",
     "text": [
      "\n",
      "2177\n"
     ]
    }
   ],
   "source": [
    "gt_keys = set()\n",
    "for i, hit in tqdm_notebook(enumerate(point_data), total=len(point_data)):\n",
    "    for j, question in enumerate(hit):\n",
    "        key = question2key(question)\n",
    "        if 'gt' in question.values()[0]:\n",
    "            gt_keys.add(key)\n",
    "print(len(gt_keys))"
   ]
  },
  {
   "cell_type": "markdown",
   "metadata": {},
   "source": [
    "#### Remove all gt and thresholded points"
   ]
  },
  {
   "cell_type": "code",
   "execution_count": 119,
   "metadata": {},
   "outputs": [
    {
     "data": {
      "application/vnd.jupyter.widget-view+json": {
       "model_id": "f3bbe459d51949488211b0893d6c9573",
       "version_major": 2,
       "version_minor": 0
      },
      "text/html": [
       "<p>Failed to display Jupyter Widget of type <code>HBox</code>.</p>\n",
       "<p>\n",
       "  If you're reading this message in the Jupyter Notebook or JupyterLab Notebook, it may mean\n",
       "  that the widgets JavaScript is still loading. If this message persists, it\n",
       "  likely means that the widgets JavaScript library is either not installed or\n",
       "  not enabled. See the <a href=\"https://ipywidgets.readthedocs.io/en/stable/user_install.html\">Jupyter\n",
       "  Widgets Documentation</a> for setup instructions.\n",
       "</p>\n",
       "<p>\n",
       "  If you're reading this message in another frontend (for example, a static\n",
       "  rendering on GitHub or <a href=\"https://nbviewer.jupyter.org/\">NBViewer</a>),\n",
       "  it may mean that your frontend doesn't currently support widgets.\n",
       "</p>\n"
      ],
      "text/plain": [
       "HBox(children=(IntProgress(value=0, max=6142), HTML(value=u'')))"
      ]
     },
     "metadata": {},
     "output_type": "display_data"
    },
    {
     "name": "stdout",
     "output_type": "stream",
     "text": [
      "\n"
     ]
    }
   ],
   "source": [
    "point_data_flattened_unique = []\n",
    "data_by_cls = collections.defaultdict(list)\n",
    "for i, hit in tqdm_notebook(enumerate(point_data), total=len(point_data)):\n",
    "    for j, question in enumerate(hit):\n",
    "        key = question2key(question)\n",
    "        keydat = separate_key(key)\n",
    "        cls = int(keydat['obj_id'])\n",
    "        if key in keys_on_border or key in gt_keys:\n",
    "            continue\n",
    "        data_by_cls[cls].append(question)"
   ]
  },
  {
   "cell_type": "code",
   "execution_count": 129,
   "metadata": {},
   "outputs": [
    {
     "name": "stdout",
     "output_type": "stream",
     "text": [
      "270248 remaining annotations\n"
     ]
    }
   ],
   "source": [
    "flt_seg_data_interior = [v for v in data_by_cls.values()]\n",
    "print(\"{} remaining annotations\".format(np.array([len(v) for v in flt_seg_data_interior]).sum()))"
   ]
  },
  {
   "cell_type": "markdown",
   "metadata": {},
   "source": [
    "#### Remove points already annotated"
   ]
  },
  {
   "cell_type": "code",
   "execution_count": 130,
   "metadata": {
    "collapsed": true
   },
   "outputs": [],
   "source": [
    "with open('cache/annotated_keys.json', 'r') as f:\n",
    "    already_annotated = set(json.load(f))"
   ]
  },
  {
   "cell_type": "code",
   "execution_count": 136,
   "metadata": {},
   "outputs": [
    {
     "name": "stdout",
     "output_type": "stream",
     "text": [
      "270236 remaining annotations\n"
     ]
    }
   ],
   "source": [
    "for i, obj in enumerate(flt_seg_data_interior):\n",
    "    questions = []\n",
    "    for question in obj:\n",
    "        if question2key(question) in already_annotated:\n",
    "            continue\n",
    "        questions.append(question)\n",
    "    flt_seg_data_interior[i] = questions\n",
    "print(\"{} remaining annotations\".format(np.array([len(v) for v in flt_seg_data_interior]).sum()))"
   ]
  },
  {
   "cell_type": "code",
   "execution_count": 139,
   "metadata": {
    "collapsed": true
   },
   "outputs": [],
   "source": [
    "def get_batched_data(gt_data, flt_seg_data=flt_seg_data_interior):\n",
    "    # Given a batch_size, arrange into HITs\n",
    "    from random import shuffle\n",
    "    batch_size = 50  # Size of each HIT\n",
    "    num_gt = 6\n",
    "    max_chunks = np.infty\n",
    "    # Ensure that we have exactly num_gt number of golden standards\n",
    "    batch_size = batch_size-num_gt\n",
    "    batched_data = []\n",
    "    gt_data_index = {}\n",
    "\n",
    "    for cls, points in gt_data.items():\n",
    "        gt_data_index[cls] = {}\n",
    "        gt_data_index[cls]['obj'] = 0\n",
    "        gt_data_index[cls]['part'] = 0\n",
    "\n",
    "    for obj_list in flt_seg_data:\n",
    "        obj_class = list(list(obj_list[0].values())[\n",
    "                         0]['points']['data'])[0].split('_')[0]\n",
    "        rand_list = obj_list\n",
    "        shuffle(rand_list)\n",
    "        N = len(rand_list)\n",
    "        chunked = [rand_list[i:min(i+batch_size, N)]\n",
    "                   for i in range(0, N, batch_size)]\n",
    "        M = len(chunked)\n",
    "        for i, chunk in enumerate(chunked):\n",
    "            if len(chunk) != batch_size:  # randomly add elements from another chunk to pad to full size\n",
    "                toadd = batch_size - len(chunk)\n",
    "                toappend = R(rand_list, toadd)\n",
    "                chunk.extend(toappend)\n",
    "            if len(chunk) != batch_size:  # Error padding\n",
    "                raise RuntimeError(\"{} not correct size.\".format(len(chunk)))\n",
    "\n",
    "            # Add gold standards from object class\n",
    "            index = gt_data_index[obj_class]['obj']\n",
    "            gold_standards = gt_data[obj_class]['obj']\n",
    "            next_ind = (index+num_gt//2) % len(gold_standards)\n",
    "            gt_data_index[obj_class]['obj'] = next_ind\n",
    "            if next_ind < index:\n",
    "                gold_to_append = gold_standards[index:len(gold_standards)]\n",
    "                gold_to_append.extend(gold_standards[0:next_ind])\n",
    "            else:\n",
    "                gold_to_append = gold_standards[index:next_ind]\n",
    "            chunk.extend(gold_to_append)\n",
    "    #         batched_data.append(chunk)\n",
    "\n",
    "            # Add gold standards from part class\n",
    "            index = gt_data_index[obj_class]['part']\n",
    "            gold_standards = gt_data[obj_class]['part']\n",
    "            next_ind = (index+num_gt//2) % len(gold_standards)\n",
    "            gt_data_index[obj_class]['part'] = next_ind\n",
    "            if next_ind < index:\n",
    "                gold_to_append = gold_standards[index:len(gold_standards)]\n",
    "                gold_to_append.extend(gold_standards[0:next_ind])\n",
    "            else:\n",
    "                gold_to_append = gold_standards[index:next_ind]\n",
    "            chunk.extend(gold_to_append)\n",
    "            batched_data.append(chunk)\n",
    "            if i > max_chunks:\n",
    "                break\n",
    "    return batched_data"
   ]
  },
  {
   "cell_type": "code",
   "execution_count": 144,
   "metadata": {
    "collapsed": true
   },
   "outputs": [],
   "source": [
    "batched_data = get_batched_data(gt_data, flt_seg_data_interior)"
   ]
  },
  {
   "cell_type": "raw",
   "metadata": {},
   "source": [
    "#### Write to file"
   ]
  },
  {
   "cell_type": "code",
   "execution_count": 145,
   "metadata": {
    "collapsed": true
   },
   "outputs": [],
   "source": [
    "with open('thresholded_clswise_with_gt.json', 'w+') as f:\n",
    "    for line in batched_data:\n",
    "        f.write('{}\\n'.format(json.dumps(line)))"
   ]
  },
  {
   "cell_type": "code",
   "execution_count": 30,
   "metadata": {
    "collapsed": true
   },
   "outputs": [],
   "source": [
    "# Separate into files by class"
   ]
  },
  {
   "cell_type": "markdown",
   "metadata": {},
   "source": [
    "### Get classwise Chunks"
   ]
  },
  {
   "cell_type": "code",
   "execution_count": 146,
   "metadata": {
    "collapsed": true
   },
   "outputs": [],
   "source": [
    "bycls = collections.defaultdict(list)\n",
    "for i, l in enumerate(batched_data):\n",
    "    cls=l[0].values()[0]['points']['data'].keys()[0].split('_')[0]\n",
    "    bycls[cls].append(l)"
   ]
  },
  {
   "cell_type": "markdown",
   "metadata": {},
   "source": [
    "#### Write to file"
   ]
  },
  {
   "cell_type": "code",
   "execution_count": 147,
   "metadata": {
    "collapsed": true
   },
   "outputs": [],
   "source": [
    "for k, v in bycls.items():\n",
    "    name = reference[k]['name']\n",
    "    with open('BYCLASS/thresholded_gt_BYNAME_'+name+'_centered.json', 'w+') as f:\n",
    "        for line in v:\n",
    "            f.write('{}\\n'.format(json.dumps(line)))"
   ]
  },
  {
   "cell_type": "markdown",
   "metadata": {},
   "source": [
    "#### Translate dog left eye from 113->190"
   ]
  },
  {
   "cell_type": "code",
   "execution_count": 24,
   "metadata": {
    "collapsed": true
   },
   "outputs": [],
   "source": [
    "all_data = []\n",
    "with open('BYCLASS/thresholded_gt_BYNAME_dog_centered.json', 'r') as f:\n",
    "    for line in f:\n",
    "        all_data.append(json.loads(line.strip()))"
   ]
  },
  {
   "cell_type": "code",
   "execution_count": 26,
   "metadata": {
    "collapsed": true
   },
   "outputs": [],
   "source": [
    "# Disambiguoate the dog's right ear (113) from the dog itself (also 113)\n",
    "for i, hit in enumerate(all_data):\n",
    "    for j, question in enumerate(hit):\n",
    "        key = list(list(question.values())[0]['points']['data'].keys())[0]\n",
    "        data = list(question.values())[0]['points']['data'][key]\n",
    "        keysplt = key.split(\"_\")\n",
    "        if keysplt[0] == '113' and keysplt[2] == '113':\n",
    "            print(key)\n",
    "            keysplt[2] = '190'\n",
    "            newkey = \"_\".join(keysplt)\n",
    "            list(question.values())[0]['points']['data'] = {newkey: data}"
   ]
  },
  {
   "cell_type": "code",
   "execution_count": 27,
   "metadata": {
    "collapsed": true
   },
   "outputs": [],
   "source": [
    "with open('BYCLASS/thresholded_gt_BYNAME_dog_centered.json', 'w') as f:\n",
    "    for hit in all_data:\n",
    "        f.write(\"{}\\n\".format(json.dumps(hit)))    "
   ]
  },
  {
   "cell_type": "markdown",
   "metadata": {},
   "source": [
    "# Analyze distributions"
   ]
  },
  {
   "cell_type": "code",
   "execution_count": 70,
   "metadata": {
    "collapsed": true
   },
   "outputs": [],
   "source": [
    "def _make_dict_hr(D, ref):\n",
    "    parts = set(list(ref.keys()))\n",
    "    for k, v in D.items():\n",
    "        if str(k) in parts:\n",
    "            D[ref[str(k)]] = D.pop(k)\n",
    "        if isinstance(v, dict):\n",
    "            _make_dict_hr(v, ref)\n",
    "def make_dict_hr(D, ref):\n",
    "    objects = set(list(ref.keys()))\n",
    "    for k, v in D.items():\n",
    "        if str(k) in objects:\n",
    "            D[ref[str(k)]['name']] = D.pop(k, None)\n",
    "        if isinstance(v, dict):\n",
    "            _make_dict_hr(v, ref[k]['parts'])\n",
    "       "
   ]
  },
  {
   "cell_type": "code",
   "execution_count": null,
   "metadata": {
    "collapsed": true
   },
   "outputs": [],
   "source": [
    "all_data = []\n",
    "with open('thresholded_clswise_with_gt.json', 'r') as f:\n",
    "    for line in f:\n",
    "        all_data.append(json.loads(line.strip()))"
   ]
  },
  {
   "cell_type": "code",
   "execution_count": null,
   "metadata": {
    "collapsed": true
   },
   "outputs": [],
   "source": [
    "# Disambiguoate the dog's left eye (113) from the dog itself (also 113)\n",
    "for i, hit in enumerate(all_data):\n",
    "    for j, question in enumerate(hit):\n",
    "        key = list(list(question.values())[0]['points']['data'].keys())[0]\n",
    "        data = list(question.values())[0]['points']['data'][key]\n",
    "        keysplt = key.split(\"_\")\n",
    "        if keysplt[0] == '113' and keysplt[2] == '113':\n",
    "            print(key)\n",
    "            keysplt[2] = '190'\n",
    "            newkey = \"_\".join(keysplt)\n",
    "            list(question.values())[0]['points']['data'] = {newkey: data}"
   ]
  },
  {
   "cell_type": "code",
   "execution_count": 19,
   "metadata": {
    "collapsed": true
   },
   "outputs": [],
   "source": [
    "with open('thresholded_clswise_with_gt.json', 'w') as f:\n",
    "    for hit in all_data:\n",
    "        f.write(\"{}\\n\".format(json.dumps(hit)))    "
   ]
  },
  {
   "cell_type": "code",
   "execution_count": 77,
   "metadata": {
    "collapsed": true
   },
   "outputs": [],
   "source": [
    "dump_to_html = True\n",
    "stats = {}\n",
    "for hit in all_data:\n",
    "    for question in hit:\n",
    "        key = question2key(question)\n",
    "        keydat = separate_key(key)\n",
    "        obj = keydat['obj_id']\n",
    "        part = keydat['part_id']\n",
    "        if obj not in stats:\n",
    "            stats[obj] = {'object': 0, 'part': 0,\n",
    "                          'parts': collections.defaultdict(int)}\n",
    "        if part == '100':\n",
    "            stats[obj]['object'] += 1\n",
    "        else:\n",
    "            stats[obj]['part'] += 1\n",
    "            stats[obj]['parts'][part] += 1\n",
    "for obj in stats:\n",
    "    stats[obj]['parts'] = dict(stats[obj]['parts'])\n",
    "freq_stats = histograms.normalize_general_histogram(stats)\n",
    "make_dict_hr(freq_stats, reference)"
   ]
  },
  {
   "cell_type": "code",
   "execution_count": 78,
   "metadata": {
    "collapsed": true
   },
   "outputs": [],
   "source": [
    "for k in freq_stats:\n",
    "    freq_stats[k][k+'_parts'] = freq_stats[k].pop('parts', None)"
   ]
  },
  {
   "cell_type": "code",
   "execution_count": 81,
   "metadata": {},
   "outputs": [
    {
     "name": "stdout",
     "output_type": "stream",
     "text": [
      "writing to web\n"
     ]
    },
    {
     "data": {
      "image/png": "[encoded data removed]",
      "text/plain": [
       "<matplotlib.figure.Figure at 0x134796490>"
      ]
     },
     "metadata": {},
     "output_type": "display_data"
    },
    {
     "data": {
      "image/png": "[encoded data removed]",
      "text/plain": [
       "<matplotlib.figure.Figure at 0x1310fd410>"
      ]
     },
     "metadata": {},
     "output_type": "display_data"
    },
    {
     "data": {
      "image/png": "[encoded data removed]",
      "text/plain": [
       "<matplotlib.figure.Figure at 0x1327cffd0>"
      ]
     },
     "metadata": {},
     "output_type": "display_data"
    },
    {
     "data": {
      "image/png": "[encoded data removed]",
      "text/plain": [
       "<matplotlib.figure.Figure at 0x132c1af50>"
      ]
     },
     "metadata": {},
     "output_type": "display_data"
    },
    {
     "data": {
      "image/png": "[encoded data removed]",
      "text/plain": [
       "<matplotlib.figure.Figure at 0x1350e3ed0>"
      ]
     },
     "metadata": {},
     "output_type": "display_data"
    },
    {
     "data": {
      "image/png": "[encoded data removed]",
      "text/plain": [
       "<matplotlib.figure.Figure at 0x13514d150>"
      ]
     },
     "metadata": {},
     "output_type": "display_data"
    },
    {
     "data": {
      "image/png": "[encoded data removed]",
      "text/plain": [
       "<matplotlib.figure.Figure at 0x135571fd0>"
      ]
     },
     "metadata": {},
     "output_type": "display_data"
    },
    {
     "data": {
      "image/png": "[encoded data removed]",
      "text/plain": [
       "<matplotlib.figure.Figure at 0x1357f1350>"
      ]
     },
     "metadata": {},
     "output_type": "display_data"
    },
    {
     "data": {
      "image/png": "[encoded data removed]",
      "text/plain": [
       "<matplotlib.figure.Figure at 0x135b8ff10>"
      ]
     },
     "metadata": {},
     "output_type": "display_data"
    },
    {
     "data": {
      "image/png": "[encoded data removed]",
      "text/plain": [
       "<matplotlib.figure.Figure at 0x1359cc550>"
      ]
     },
     "metadata": {},
     "output_type": "display_data"
    },
    {
     "data": {
      "image/png": "[encoded data removed]",
      "text/plain": [
       "<matplotlib.figure.Figure at 0x1c43274590>"
      ]
     },
     "metadata": {},
     "output_type": "display_data"
    },
    {
     "data": {
      "image/png": "[encoded data removed]",
      "text/plain": [
       "<matplotlib.figure.Figure at 0x1c4356b510>"
      ]
     },
     "metadata": {},
     "output_type": "display_data"
    },
    {
     "data": {
      "image/png": "[encoded data removed]",
      "text/plain": [
       "<matplotlib.figure.Figure at 0x1c437db610>"
      ]
     },
     "metadata": {},
     "output_type": "display_data"
    },
    {
     "data": {
      "image/png": "[encoded data removed]",
      "text/plain": [
       "<matplotlib.figure.Figure at 0x1c43a66fd0>"
      ]
     },
     "metadata": {},
     "output_type": "display_data"
    },
    {
     "data": {
      "image/png": "[encoded data removed]",
      "text/plain": [
       "<matplotlib.figure.Figure at 0x1c43a52310>"
      ]
     },
     "metadata": {},
     "output_type": "display_data"
    }
   ],
   "source": [
    "reload(point_analytics.histograms)\n",
    "if dump_to_html:\n",
    "    plots = point_analytics.histograms.plot_histograms('hm', freq_stats)\n",
    "    plots = [(\"\", \"\", img) for img in plots]\n",
    "    page_data = point_analytics.htmldump.create_html_file(plots, \"Distributions\")\n",
    "    with open('web/distributions.html', 'w+') as f:\n",
    "        print('writing to web')\n",
    "        f.write(page_data)"
   ]
  },
  {
   "cell_type": "code",
   "execution_count": null,
   "metadata": {
    "collapsed": true
   },
   "outputs": [],
   "source": []
  }
 ],
 "metadata": {
  "kernelspec": {
   "display_name": "Python 2",
   "language": "python",
   "name": "python2"
  },
  "language_info": {
   "codemirror_mode": {
    "name": "ipython",
    "version": 2
   },
   "file_extension": ".py",
   "mimetype": "text/x-python",
   "name": "python",
   "nbconvert_exporter": "python",
   "pygments_lexer": "ipython2",
   "version": "2.7.13"
  },
  "toc": {
   "nav_menu": {},
   "number_sections": true,
   "sideBar": true,
   "skip_h1_title": false,
   "title_cell": "Table of Contents",
   "title_sidebar": "Contents",
   "toc_cell": false,
   "toc_position": {
    "height": "calc(100% - 180px)",
    "left": "10px",
    "top": "150px",
    "width": "288px"
   },
   "toc_section_display": true,
   "toc_window_display": true
  }
 },
 "nbformat": 4,
 "nbformat_minor": 2
}
